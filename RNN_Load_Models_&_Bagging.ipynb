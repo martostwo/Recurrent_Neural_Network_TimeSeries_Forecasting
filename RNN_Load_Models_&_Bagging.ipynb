{
  "nbformat": 4,
  "nbformat_minor": 0,
  "metadata": {
    "colab": {
      "provenance": [],
      "mount_file_id": "1PcBDORxmHnMH0pQUUOXs4BYDxNXXjkZR",
      "authorship_tag": "ABX9TyPXmzeK4dEgHFVqeSIlayWc",
      "include_colab_link": true
    },
    "kernelspec": {
      "name": "python3",
      "display_name": "Python 3"
    },
    "language_info": {
      "name": "python"
    },
    "gpuClass": "standard"
  },
  "cells": [
    {
      "cell_type": "markdown",
      "metadata": {
        "id": "view-in-github",
        "colab_type": "text"
      },
      "source": [
        "<a href=\"https://colab.research.google.com/github/martostwo/Recurrent_Neural_Network_TimeSeries_Forecasting/blob/main/RNN_Load_Models_%26_Bagging.ipynb\" target=\"_parent\"><img src=\"https://colab.research.google.com/assets/colab-badge.svg\" alt=\"Open In Colab\"/></a>"
      ]
    },
    {
      "cell_type": "markdown",
      "metadata": {
        "id": "Hovew1YwhX8j"
      },
      "source": [
        "#Load Models & Bagging Method"
      ]
    },
    {
      "cell_type": "markdown",
      "source": [
        "#Import & Dark Mode"
      ],
      "metadata": {
        "id": "7WAw5uZb7dae"
      }
    },
    {
      "cell_type": "markdown",
      "source": [
        "Modules Installation"
      ],
      "metadata": {
        "id": "XWXtoca_QWdw"
      }
    },
    {
      "cell_type": "code",
      "source": [
        "!pip install yfinance\n",
        "!pip install ta"
      ],
      "metadata": {
        "colab": {
          "base_uri": "https://localhost:8080/"
        },
        "id": "4XrkYw2uQfGg",
        "outputId": "69a3d798-9a8e-41c8-815c-4f87266bb219"
      },
      "execution_count": null,
      "outputs": [
        {
          "output_type": "stream",
          "name": "stdout",
          "text": [
            "Looking in indexes: https://pypi.org/simple, https://us-python.pkg.dev/colab-wheels/public/simple/\n",
            "Collecting yfinance\n",
            "  Downloading yfinance-0.2.12-py2.py3-none-any.whl (59 kB)\n",
            "\u001b[2K     \u001b[90m━━━━━━━━━━━━━━━━━━━━━━━━━━━━━━━━━━━━━━━━\u001b[0m \u001b[32m59.2/59.2 KB\u001b[0m \u001b[31m2.5 MB/s\u001b[0m eta \u001b[36m0:00:00\u001b[0m\n",
            "\u001b[?25hRequirement already satisfied: pandas>=1.3.0 in /usr/local/lib/python3.9/dist-packages (from yfinance) (1.4.4)\n",
            "Collecting frozendict>=2.3.4\n",
            "  Downloading frozendict-2.3.5-cp39-cp39-manylinux_2_17_x86_64.manylinux2014_x86_64.whl (112 kB)\n",
            "\u001b[2K     \u001b[90m━━━━━━━━━━━━━━━━━━━━━━━━━━━━━━━━━━━━━━━\u001b[0m \u001b[32m112.8/112.8 KB\u001b[0m \u001b[31m4.7 MB/s\u001b[0m eta \u001b[36m0:00:00\u001b[0m\n",
            "\u001b[?25hRequirement already satisfied: lxml>=4.9.1 in /usr/local/lib/python3.9/dist-packages (from yfinance) (4.9.2)\n",
            "Collecting cryptography>=3.3.2\n",
            "  Downloading cryptography-39.0.2-cp36-abi3-manylinux_2_28_x86_64.whl (4.2 MB)\n",
            "\u001b[2K     \u001b[90m━━━━━━━━━━━━━━━━━━━━━━━━━━━━━━━━━━━━━━━━\u001b[0m \u001b[32m4.2/4.2 MB\u001b[0m \u001b[31m43.3 MB/s\u001b[0m eta \u001b[36m0:00:00\u001b[0m\n",
            "\u001b[?25hCollecting requests>=2.26\n",
            "  Downloading requests-2.28.2-py3-none-any.whl (62 kB)\n",
            "\u001b[2K     \u001b[90m━━━━━━━━━━━━━━━━━━━━━━━━━━━━━━━━━━━━━━━━\u001b[0m \u001b[32m62.8/62.8 KB\u001b[0m \u001b[31m6.8 MB/s\u001b[0m eta \u001b[36m0:00:00\u001b[0m\n",
            "\u001b[?25hCollecting html5lib>=1.1\n",
            "  Downloading html5lib-1.1-py2.py3-none-any.whl (112 kB)\n",
            "\u001b[2K     \u001b[90m━━━━━━━━━━━━━━━━━━━━━━━━━━━━━━━━━━━━━━━\u001b[0m \u001b[32m112.2/112.2 KB\u001b[0m \u001b[31m7.3 MB/s\u001b[0m eta \u001b[36m0:00:00\u001b[0m\n",
            "\u001b[?25hRequirement already satisfied: numpy>=1.16.5 in /usr/local/lib/python3.9/dist-packages (from yfinance) (1.22.4)\n",
            "Requirement already satisfied: multitasking>=0.0.7 in /usr/local/lib/python3.9/dist-packages (from yfinance) (0.0.11)\n",
            "Collecting appdirs>=1.4.4\n",
            "  Downloading appdirs-1.4.4-py2.py3-none-any.whl (9.6 kB)\n",
            "Requirement already satisfied: pytz>=2022.5 in /usr/local/lib/python3.9/dist-packages (from yfinance) (2022.7.1)\n",
            "Collecting beautifulsoup4>=4.11.1\n",
            "  Downloading beautifulsoup4-4.11.2-py3-none-any.whl (129 kB)\n",
            "\u001b[2K     \u001b[90m━━━━━━━━━━━━━━━━━━━━━━━━━━━━━━━━━━━━━━\u001b[0m \u001b[32m129.4/129.4 KB\u001b[0m \u001b[31m12.1 MB/s\u001b[0m eta \u001b[36m0:00:00\u001b[0m\n",
            "\u001b[?25hRequirement already satisfied: soupsieve>1.2 in /usr/local/lib/python3.9/dist-packages (from beautifulsoup4>=4.11.1->yfinance) (2.4)\n",
            "Requirement already satisfied: cffi>=1.12 in /usr/local/lib/python3.9/dist-packages (from cryptography>=3.3.2->yfinance) (1.15.1)\n",
            "Requirement already satisfied: six>=1.9 in /usr/local/lib/python3.9/dist-packages (from html5lib>=1.1->yfinance) (1.15.0)\n",
            "Requirement already satisfied: webencodings in /usr/local/lib/python3.9/dist-packages (from html5lib>=1.1->yfinance) (0.5.1)\n",
            "Requirement already satisfied: python-dateutil>=2.8.1 in /usr/local/lib/python3.9/dist-packages (from pandas>=1.3.0->yfinance) (2.8.2)\n",
            "Collecting charset-normalizer<4,>=2\n",
            "  Downloading charset_normalizer-3.1.0-cp39-cp39-manylinux_2_17_x86_64.manylinux2014_x86_64.whl (199 kB)\n",
            "\u001b[2K     \u001b[90m━━━━━━━━━━━━━━━━━━━━━━━━━━━━━━━━━━━━━━\u001b[0m \u001b[32m199.2/199.2 KB\u001b[0m \u001b[31m15.1 MB/s\u001b[0m eta \u001b[36m0:00:00\u001b[0m\n",
            "\u001b[?25hRequirement already satisfied: idna<4,>=2.5 in /usr/local/lib/python3.9/dist-packages (from requests>=2.26->yfinance) (2.10)\n",
            "Requirement already satisfied: urllib3<1.27,>=1.21.1 in /usr/local/lib/python3.9/dist-packages (from requests>=2.26->yfinance) (1.26.15)\n",
            "Requirement already satisfied: certifi>=2017.4.17 in /usr/local/lib/python3.9/dist-packages (from requests>=2.26->yfinance) (2022.12.7)\n",
            "Requirement already satisfied: pycparser in /usr/local/lib/python3.9/dist-packages (from cffi>=1.12->cryptography>=3.3.2->yfinance) (2.21)\n",
            "Installing collected packages: appdirs, html5lib, frozendict, charset-normalizer, beautifulsoup4, requests, cryptography, yfinance\n",
            "  Attempting uninstall: html5lib\n",
            "    Found existing installation: html5lib 1.0.1\n",
            "    Uninstalling html5lib-1.0.1:\n",
            "      Successfully uninstalled html5lib-1.0.1\n",
            "  Attempting uninstall: beautifulsoup4\n",
            "    Found existing installation: beautifulsoup4 4.9.3\n",
            "    Uninstalling beautifulsoup4-4.9.3:\n",
            "      Successfully uninstalled beautifulsoup4-4.9.3\n",
            "  Attempting uninstall: requests\n",
            "    Found existing installation: requests 2.25.1\n",
            "    Uninstalling requests-2.25.1:\n",
            "      Successfully uninstalled requests-2.25.1\n",
            "Successfully installed appdirs-1.4.4 beautifulsoup4-4.11.2 charset-normalizer-3.1.0 cryptography-39.0.2 frozendict-2.3.5 html5lib-1.1 requests-2.28.2 yfinance-0.2.12\n",
            "Looking in indexes: https://pypi.org/simple, https://us-python.pkg.dev/colab-wheels/public/simple/\n",
            "Collecting ta\n",
            "  Downloading ta-0.10.2.tar.gz (25 kB)\n",
            "  Preparing metadata (setup.py) ... \u001b[?25l\u001b[?25hdone\n",
            "Requirement already satisfied: numpy in /usr/local/lib/python3.9/dist-packages (from ta) (1.22.4)\n",
            "Requirement already satisfied: pandas in /usr/local/lib/python3.9/dist-packages (from ta) (1.4.4)\n",
            "Requirement already satisfied: python-dateutil>=2.8.1 in /usr/local/lib/python3.9/dist-packages (from pandas->ta) (2.8.2)\n",
            "Requirement already satisfied: pytz>=2020.1 in /usr/local/lib/python3.9/dist-packages (from pandas->ta) (2022.7.1)\n",
            "Requirement already satisfied: six>=1.5 in /usr/local/lib/python3.9/dist-packages (from python-dateutil>=2.8.1->pandas->ta) (1.15.0)\n",
            "Building wheels for collected packages: ta\n",
            "  Building wheel for ta (setup.py) ... \u001b[?25l\u001b[?25hdone\n",
            "  Created wheel for ta: filename=ta-0.10.2-py3-none-any.whl size=29103 sha256=b8479febaca3adeac4e679e082a0b371dbaf8a4fb9c2a4b5cedfc5a97a818209\n",
            "  Stored in directory: /root/.cache/pip/wheels/6a/76/03/7f785aaa50b9c6ec7e3fd105a62c1b2c45a034512d51e024a9\n",
            "Successfully built ta\n",
            "Installing collected packages: ta\n",
            "Successfully installed ta-0.10.2\n"
          ]
        }
      ]
    },
    {
      "cell_type": "markdown",
      "source": [
        "Module import & Dark Mode"
      ],
      "metadata": {
        "id": "Jm9fn3QiQhp4"
      }
    },
    {
      "cell_type": "code",
      "source": [
        "#Module Import:\n",
        "import pandas as pd;\n",
        "import numpy as np;\n",
        "import warnings;\n",
        "import yfinance as yf;\n",
        "import ta;\n",
        "import matplotlib.pyplot as plt;\n",
        "from matplotlib import cycler;\n",
        "plt.style.use('seaborn');\n",
        "warnings.filterwarnings(\"ignore\");\n",
        "\n",
        "#Dark mode for Graphics:\n",
        "colors = cycler(\n",
        "    'color',\n",
        "    [\n",
        "    '#669FEE','#66EE91', '#9988DD',\n",
        "    '#EECC55', '#88BB44', '#FFBBBB'\n",
        "    ]\n",
        ");\n",
        "\n",
        "plt.rc('figure', facecolor = '#313233');\n",
        "plt.rc('axes', facecolor = \"#313233\", edgecolor='none',\n",
        "       axisbelow=True, grid=True, prop_cycle=colors,\n",
        "       labelcolor = 'gray');\n",
        "\n",
        "plt.rc('grid', color='474A4A', linestyle='solid');\n",
        "plt.rc('xtick', color='gray');\n",
        "plt.rc('ytick', direction='out', color='gray');\n",
        "plt.rc('legend', facecolor=\"#313233\", edgecolor=\"#313233\");\n",
        "plt.rc(\"text\", color=\"#C9C9C9\");\n",
        "plt.rc('figure', facecolor='#313233');"
      ],
      "metadata": {
        "id": "IhTKSGJXQvSo",
        "colab": {
          "base_uri": "https://localhost:8080/"
        },
        "outputId": "0d961c71-13f5-43ab-88e0-13e08da16afd"
      },
      "execution_count": null,
      "outputs": [
        {
          "output_type": "stream",
          "name": "stderr",
          "text": [
            "<ipython-input-2-e0d92d8f87f3>:9: MatplotlibDeprecationWarning: The seaborn styles shipped by Matplotlib are deprecated since 3.6, as they no longer correspond to the styles shipped by seaborn. However, they will remain available as 'seaborn-v0_8-<style>'. Alternatively, directly use the seaborn API instead.\n",
            "  plt.style.use('seaborn');\n"
          ]
        }
      ]
    },
    {
      "cell_type": "markdown",
      "source": [
        "#Preprocessing & Features"
      ],
      "metadata": {
        "id": "M-kwC-qPnkdx"
      }
    },
    {
      "cell_type": "markdown",
      "source": [
        "Preprocessing & Feature Engineering Functions (Yahoo Finance)"
      ],
      "metadata": {
        "id": "jOSI5BCLnkdy"
      }
    },
    {
      "cell_type": "code",
      "source": [
        "def yf_preprocessing(ticker):\n",
        "  df = yf.download(ticker, start=\"1990-01-01\")\n",
        "  df.columns = [\"open\", \"high\", \"low\", \"close\", \"adj close\", \"volume\"]\n",
        "  df.index.name = \"date\"\n",
        "  return df\n",
        "\n",
        "def yf_feature(df):\n",
        "\n",
        "    #Copiamos el DataFrame para evitar interferencias en los datos:\n",
        "    df_copy = df.copy()\n",
        "\n",
        "    #creamos el retorno:\n",
        "    df_copy[\"returns\"] = df_copy[\"close\"].pct_change(1)\n",
        "\n",
        "    #price\n",
        "    df_copy[\"op\"] = df_copy[\"open\"].shift(1)\n",
        "    df_copy[\"hi\"] = df_copy[\"high\"].shift(1)\n",
        "    df_copy[\"lo\"] = df_copy[\"low\"].shift(1)\n",
        "    df_copy[\"clo\"] = df_copy[\"close\"].shift(1)\n",
        "\n",
        "    #Volume\n",
        "    df_copy[\"vol\"] = df_copy[\"volume\"].shift(1)\n",
        "\n",
        "    #Creamos las SMAs:\n",
        "    df_copy[\"SMA 15\"] = df_copy[[\"close\"]].rolling(15).mean().shift(1)\n",
        "    df_copy[\"SMA 60\"] = df_copy[[\"close\"]].rolling(60).mean().shift(1)\n",
        "\n",
        "    #Creamos la volatilidad:\n",
        "    df_copy[\"MSD 15\"] = df_copy[\"returns\"].rolling(15).std().shift(1)\n",
        "    df_copy[\"MSD 60\"] = df_copy[\"returns\"].rolling(60).std().shift(1)\n",
        "\n",
        "    #creamos VWAP:\n",
        "    vwap = ta.volume.VolumeWeightedAveragePrice(\n",
        "        high=df['high'],\n",
        "        low=df['low'],\n",
        "        close=df['close'],\n",
        "        volume=df['volume'],\n",
        "        window=5  # periodo de tiempo para el cálculo del VWAP\n",
        "    )\n",
        "    df_copy[\"vwap\"] = vwap.vwap.shift(1)\n",
        "\n",
        "    #Creamos el RSI:\n",
        "    RSI = ta.momentum.RSIIndicator(df_copy[\"close\"], window = 5, fillna = False)\n",
        "    df_copy[\"rsi\"] = RSI.rsi().shift(1)\n",
        "\n",
        "    return df_copy.dropna();"
      ],
      "metadata": {
        "id": "PEZqO3j-nkdz"
      },
      "execution_count": null,
      "outputs": []
    },
    {
      "cell_type": "markdown",
      "source": [
        "Transform 2D array to 3D"
      ],
      "metadata": {
        "id": "LTVWhVvpqrDN"
      }
    },
    {
      "cell_type": "code",
      "source": [
        "def X_3d_RNN(X_s, y_s, lag):\n",
        "\n",
        "    # Verificación simple de longitudes\n",
        "    if len(X_s) != len(y_s):\n",
        "        print(\"Warnings\")\n",
        "\n",
        "    # Creamos la variable X_train\n",
        "    X_train = []\n",
        "    for variable in range(0, X_s.shape[1]):\n",
        "        X = []\n",
        "        for i in range(lag, X_s.shape[0]):\n",
        "            X.append(X_s[i-lag:i, variable])\n",
        "        X_train.append(X)\n",
        "    X_train, np.array(X_train)\n",
        "    X_train = np.swapaxes(np.swapaxes(X_train, 0, 1), 1, 2)\n",
        "\n",
        "    # Creamos la variable y_train\n",
        "    y_train = []\n",
        "    for i in range(lag, y_s.shape[0]):\n",
        "        y_train.append(y_s[i, :].reshape(-1,1).transpose())\n",
        "    y_train = np.concatenate(y_train, axis=0)\n",
        "    return X_train, y_train"
      ],
      "metadata": {
        "id": "OY9i6MbBqmUf"
      },
      "execution_count": null,
      "outputs": []
    },
    {
      "cell_type": "markdown",
      "source": [
        "#Load & Run Models"
      ],
      "metadata": {
        "id": "dJplr8xx7vIm"
      }
    },
    {
      "cell_type": "markdown",
      "source": [
        "Load & Run Models (Yahoo Finance)"
      ],
      "metadata": {
        "id": "UtZZQtEusUVL"
      }
    },
    {
      "cell_type": "code",
      "source": [
        "def run_models(ticker ,models_path):\n",
        "\n",
        "  #Feature engineering\n",
        "  global df;\n",
        "  df = yf_preprocessing(ticker);\n",
        "  df = yf_feature(df);\n",
        "\n",
        "  #Percentage train set\n",
        "  global split, split_val;\n",
        "  split = int(0.85*len(df));\n",
        "  split_val = int(0.95*len(df));\n",
        "\n",
        "  #Train set\n",
        "  x_train = df[['vwap','rsi','SMA 15','SMA 60','MSD 15','MSD 60','op','hi','lo','clo','vol']].iloc[:split,:]\n",
        "  y_train = df[['returns']].iloc[:split,:]\n",
        "\n",
        "  #Validation set\n",
        "  x_val = df[['vwap','rsi','SMA 15','SMA 60','MSD 15','MSD 60','op','hi','lo','clo','vol']].iloc[split:split_val,:]\n",
        "  y_val = df[['returns']].iloc[split:split_val,:]\n",
        "\n",
        "  #Test set\n",
        "  x_test = df[['vwap','rsi','SMA 15','SMA 60','MSD 15','MSD 60','op','hi','lo','clo','vol']].iloc[split_val:,:]\n",
        "  y_test = df[['returns']].iloc[split_val:,:]\n",
        "\n",
        "\n",
        "  #Standardization\n",
        "  from sklearn.preprocessing import StandardScaler\n",
        "  sc = StandardScaler()\n",
        "\n",
        "  #Estandarizamos conjunto de entrenamiento\n",
        "  x_train_sc = sc.fit_transform(x_train)\n",
        "\n",
        "  #Estandarizamos conjunto de testing\n",
        "  x_val_sc = sc.transform(x_val)\n",
        "\n",
        "  #Estandarizamos conjunto de testing\n",
        "  x_test_sc = sc.transform(x_test)\n",
        "\n",
        "  lag = 15\n",
        "  x_train_3d, y_train_3d = X_3d_RNN(x_train_sc, y_train.values, lag)\n",
        "  x_val_3d, y_val_3d = X_3d_RNN(x_val_sc, y_val.values, lag)\n",
        "  x_test_3d, y_test_3d = X_3d_RNN(x_test_sc, y_test.values, lag)\n",
        "\n",
        "  #Create empty dataFrame:\n",
        "  prediction = pd.DataFrame( index = df.index )\n",
        "  strategy = pd.DataFrame( index = df.index )\n",
        "  \n",
        "  #Cargamos modelos y realizamos predicciones:\n",
        "  from keras.models import load_model\n",
        "  from tqdm import tqdm\n",
        "\n",
        "  for n in tqdm(range(100)):\n",
        "    \n",
        "    model_name = f\"RNN_{n}\"\n",
        "    RNN = load_model(models_path + f\"{model_name}.h5\")\n",
        "\n",
        "    y_pred_train = np.concatenate((np.zeros([lag,1]), RNN.predict(x_train_3d)), axis=0)\n",
        "\n",
        "    y_pred_val = np.concatenate((np.zeros([lag,1]), RNN.predict(x_val_3d)), axis=0)\n",
        "\n",
        "    y_pred_test = np.concatenate((np.zeros([lag,1]), RNN.predict(x_test_3d)), axis=0)\n",
        "\n",
        "    pre = np.concatenate((y_pred_train, y_pred_val, y_pred_test), axis=0)\n",
        "\n",
        "    prediction[model_name] = pre;\n",
        "    strategy[model_name] = df[\"returns\"] * np.sign(prediction[model_name].shift(1));\n",
        "  \n",
        "  return prediction, strategy;"
      ],
      "metadata": {
        "id": "Iju2FM-TsRUK"
      },
      "execution_count": null,
      "outputs": []
    },
    {
      "cell_type": "markdown",
      "source": [
        "#Optimum select"
      ],
      "metadata": {
        "id": "XTWWAY2K710X"
      }
    },
    {
      "cell_type": "markdown",
      "source": [
        "Algoritmo de seleción óptima"
      ],
      "metadata": {
        "id": "9QzsO21kop01"
      }
    },
    {
      "cell_type": "code",
      "source": [
        "#We fixed the problem of stochastic initialization with a criteria that filters the best DNNs\n",
        "def optimum_select(strategies):\n",
        "\n",
        "  strat = strategies.dropna()\n",
        "  all_data = strat\n",
        "  val_test_data = strat.iloc[split:]\n",
        "  test_data = strat.iloc[split_val:]\n",
        "\n",
        "  dnns = all_data.columns\n",
        "\n",
        "  hopes_all = pd.DataFrame( index = [\"hope\"] )\n",
        "  hopes_val_test = pd.DataFrame( index = [\"hope\"] )\n",
        "  hopes_test = pd.DataFrame( index = [\"hope\"] )\n",
        "  \n",
        "  for i in dnns:\n",
        "    hope_all = all_data[i].mean()*100\n",
        "    hope_val_test = val_test_data[i].mean()*100\n",
        "    hope_test = test_data[i].mean()*100\n",
        "    \n",
        "    hopes_all[i] = hope_all\n",
        "    hopes_val_test[i] = hope_val_test\n",
        "    hopes_test[i] = hope_test\n",
        "\n",
        "  best_all = list(hopes_all.transpose().sort_values(\n",
        "      by=\"hope\", \n",
        "      ascending = False\n",
        "  ).index[0:4])\n",
        "\n",
        "  best_val_test = list(hopes_val_test.transpose().sort_values(\n",
        "      by=\"hope\", \n",
        "      ascending = False\n",
        "  ).index[0:2])\n",
        "\n",
        "  best_test = list(hopes_test.transpose().sort_values(\n",
        "      by=\"hope\", \n",
        "      ascending = False\n",
        "  ).index[0:4])\n",
        "\n",
        "  return list(set(best_all + best_val_test + best_test))"
      ],
      "metadata": {
        "id": "3XND4_Aiov9t"
      },
      "execution_count": null,
      "outputs": []
    },
    {
      "cell_type": "markdown",
      "source": [
        "#Algoritmo de selección óptima y mejor combinación"
      ],
      "metadata": {
        "id": "8u0R3GqnhvlA"
      }
    },
    {
      "cell_type": "code",
      "source": [
        "#We fixed the problem of stochastic initialization with a criteria that filters the best DNNs\n",
        "import itertools as iter\n",
        "from itertools import islice\n",
        "\n",
        "def optimum_select_comb(predictions, strategies):\n",
        "\n",
        "  strat = strategies.dropna()\n",
        "  all_data = strat\n",
        "  val_test_data = strat.iloc[split:]\n",
        "  test_data = strat.iloc[split_val:]\n",
        "\n",
        "  dnns = all_data.columns\n",
        "\n",
        "  hopes_all = pd.DataFrame( index = [\"hope\"] )\n",
        "  hopes_val_test = pd.DataFrame( index = [\"hope\"] )\n",
        "  hopes_test = pd.DataFrame( index = [\"hope\"] )\n",
        "  \n",
        "  for i in dnns:\n",
        "    hopes_all[i] = all_data[i].mean()*100\n",
        "    hopes_val_test[i] = val_test_data[i].mean()*100\n",
        "    hopes_test[i] = test_data[i].mean()*100\n",
        "    \n",
        "  best_all = list(hopes_all.transpose().sort_values(\n",
        "      by=\"hope\", \n",
        "      ascending = False\n",
        "  ).index[0:6])\n",
        "\n",
        "  best_val_test = list(hopes_val_test.transpose().sort_values(\n",
        "      by=\"hope\", \n",
        "      ascending = False\n",
        "  ).index[0:6])\n",
        "\n",
        "  best_test = list(hopes_test.transpose().sort_values(\n",
        "      by=\"hope\", \n",
        "      ascending = False\n",
        "  ).index[0:6])\n",
        "\n",
        "  #Calculamos todas las combinaciones de modelos sin repetición\n",
        "  best = list(set(best_all + best_val_test + best_test))\n",
        "  combination = []\n",
        "\n",
        "  for r in range(3, len(best)+1):\n",
        "    combination.extend(list(iter.combinations(best, r)))\n",
        "\n",
        "  #Calculamos la esperanza matemática de retorno diario de cada combinación (bagging)\n",
        "  best_comb = {}\n",
        "\n",
        "  for comb in combination:\n",
        "\n",
        "    #Calculamos decisiones de compra o venta\n",
        "    best_pre = predictions[list(comb)]\n",
        "    best_pre[\"Buy\"] = (np.sign(best_pre) == 1).sum(axis=1);\n",
        "    best_pre[\"Sell\"] = (np.sign(best_pre) == -1).sum(axis=1);\n",
        "\n",
        "    #Calculamos posición final haciendo Bagging:\n",
        "    best_pre[\"position\"] = np.nan;\n",
        "\n",
        "    best_pre.loc[ best_pre[\"Buy\"] > best_pre[\"Sell\"] ,\"position\"] = 1;\n",
        "    best_pre.loc[ best_pre[\"Buy\"] == best_pre[\"Sell\"] ,\"position\"] = 0;\n",
        "    best_pre.loc[ best_pre[\"Sell\"] > best_pre[\"Buy\"] ,\"position\"] = -1;\n",
        "\n",
        "    best_pre[\"strategy\"] = df[\"returns\"] * best_pre[\"position\"].shift(1);\n",
        "\n",
        "    #Ratio de sortino\n",
        "    mean = best_pre['strategy'].mean();\n",
        "    volatility = best_pre['strategy'].loc[best_pre['strategy'] < 0].std();\n",
        "    sortino = np.sqrt(256)*mean/volatility;\n",
        "\n",
        "    best_comb[comb] = sortino\n",
        "  \n",
        "  # Ordenar el diccionario por mayor esperanza matemática\n",
        "  best_comb = dict(sorted(best_comb.items(), key=lambda item: item[1], reverse = True))\n",
        "\n",
        "  return list(islice(best_comb.keys(),50))"
      ],
      "metadata": {
        "id": "PKnf0DlLht-o"
      },
      "execution_count": null,
      "outputs": []
    },
    {
      "cell_type": "markdown",
      "source": [
        "#Run Models"
      ],
      "metadata": {
        "id": "2wooGDNN7_Mu"
      }
    },
    {
      "cell_type": "markdown",
      "source": [
        "Run models"
      ],
      "metadata": {
        "id": "QZ2K-WLlp0Yg"
      }
    },
    {
      "cell_type": "code",
      "source": [
        "#df_pre, df_strat = run_models(\n",
        "#    \"/content/drive/MyDrive/Deep Learning aplicado al trading algorítmico/EURUSD_Daily_1990.csv\",\n",
        "#    \"/content/drive/MyDrive/Deep Learning aplicado al trading algorítmico/Models_DNN/\"\n",
        "#);\n",
        "\n",
        "df_pre, df_strat = run_models(\n",
        "    \"^GSPC\",\n",
        "    \"/content/drive/MyDrive/Deep Learning aplicado al trading algorítmico/Models/ModelsRNN_^GSPC/\"\n",
        ");"
      ],
      "metadata": {
        "colab": {
          "base_uri": "https://localhost:8080/"
        },
        "id": "fS1_hTGOp5XF",
        "outputId": "717e8d58-8303-46b2-a621-89f637da79cd"
      },
      "execution_count": null,
      "outputs": [
        {
          "output_type": "stream",
          "name": "stdout",
          "text": [
            "\r[*********************100%***********************]  1 of 1 completed\n"
          ]
        },
        {
          "output_type": "stream",
          "name": "stderr",
          "text": [
            "\r  0%|          | 0/100 [00:00<?, ?it/s]"
          ]
        },
        {
          "output_type": "stream",
          "name": "stdout",
          "text": [
            "221/221 [==============================] - 4s 8ms/step\n",
            "26/26 [==============================] - 0s 7ms/step\n",
            "13/13 [==============================] - 0s 7ms/step\n"
          ]
        },
        {
          "output_type": "stream",
          "name": "stderr",
          "text": [
            "\r  1%|          | 1/100 [00:09<15:21,  9.31s/it]"
          ]
        },
        {
          "output_type": "stream",
          "name": "stdout",
          "text": [
            "221/221 [==============================] - 2s 7ms/step\n",
            "26/26 [==============================] - 0s 7ms/step\n",
            "13/13 [==============================] - 0s 7ms/step\n"
          ]
        },
        {
          "output_type": "stream",
          "name": "stderr",
          "text": [
            "\r  2%|▏         | 2/100 [00:13<10:39,  6.53s/it]"
          ]
        },
        {
          "output_type": "stream",
          "name": "stdout",
          "text": [
            "221/221 [==============================] - 3s 9ms/step\n",
            "26/26 [==============================] - 0s 7ms/step\n",
            "13/13 [==============================] - 0s 8ms/step\n"
          ]
        },
        {
          "output_type": "stream",
          "name": "stderr",
          "text": [
            "\r  3%|▎         | 3/100 [00:19<09:54,  6.13s/it]"
          ]
        },
        {
          "output_type": "stream",
          "name": "stdout",
          "text": [
            "221/221 [==============================] - 2s 7ms/step\n",
            "26/26 [==============================] - 0s 7ms/step\n",
            "13/13 [==============================] - 0s 7ms/step\n"
          ]
        },
        {
          "output_type": "stream",
          "name": "stderr",
          "text": [
            "\r  4%|▍         | 4/100 [00:24<08:46,  5.49s/it]"
          ]
        },
        {
          "output_type": "stream",
          "name": "stdout",
          "text": [
            "221/221 [==============================] - 2s 7ms/step\n",
            "26/26 [==============================] - 0s 7ms/step\n",
            "13/13 [==============================] - 0s 8ms/step\n"
          ]
        },
        {
          "output_type": "stream",
          "name": "stderr",
          "text": [
            "\r  5%|▌         | 5/100 [00:28<08:01,  5.07s/it]"
          ]
        },
        {
          "output_type": "stream",
          "name": "stdout",
          "text": [
            "221/221 [==============================] - 3s 9ms/step\n",
            "26/26 [==============================] - 0s 7ms/step\n",
            "13/13 [==============================] - 0s 8ms/step\n"
          ]
        },
        {
          "output_type": "stream",
          "name": "stderr",
          "text": [
            "\r  6%|▌         | 6/100 [00:33<08:13,  5.25s/it]"
          ]
        },
        {
          "output_type": "stream",
          "name": "stdout",
          "text": [
            "221/221 [==============================] - 3s 8ms/step\n",
            "26/26 [==============================] - 0s 7ms/step\n",
            "13/13 [==============================] - 0s 6ms/step\n"
          ]
        },
        {
          "output_type": "stream",
          "name": "stderr",
          "text": [
            "\r  7%|▋         | 7/100 [00:38<07:39,  4.94s/it]"
          ]
        },
        {
          "output_type": "stream",
          "name": "stdout",
          "text": [
            "221/221 [==============================] - 2s 7ms/step\n",
            "26/26 [==============================] - 0s 7ms/step\n",
            "13/13 [==============================] - 0s 7ms/step\n"
          ]
        },
        {
          "output_type": "stream",
          "name": "stderr",
          "text": [
            "\r  8%|▊         | 8/100 [00:42<07:17,  4.76s/it]"
          ]
        },
        {
          "output_type": "stream",
          "name": "stdout",
          "text": [
            "221/221 [==============================] - 3s 10ms/step\n",
            "26/26 [==============================] - 0s 10ms/step\n",
            "13/13 [==============================] - 0s 11ms/step\n"
          ]
        },
        {
          "output_type": "stream",
          "name": "stderr",
          "text": [
            "\r  9%|▉         | 9/100 [00:48<07:37,  5.03s/it]"
          ]
        },
        {
          "output_type": "stream",
          "name": "stdout",
          "text": [
            "221/221 [==============================] - 3s 8ms/step\n",
            "26/26 [==============================] - 0s 9ms/step\n",
            "13/13 [==============================] - 0s 8ms/step\n"
          ]
        },
        {
          "output_type": "stream",
          "name": "stderr",
          "text": [
            "\r 10%|█         | 10/100 [00:53<07:35,  5.06s/it]"
          ]
        },
        {
          "output_type": "stream",
          "name": "stdout",
          "text": [
            "221/221 [==============================] - 3s 8ms/step\n",
            "26/26 [==============================] - 0s 8ms/step\n",
            "13/13 [==============================] - 0s 10ms/step\n"
          ]
        },
        {
          "output_type": "stream",
          "name": "stderr",
          "text": [
            "\r 11%|█         | 11/100 [00:58<07:35,  5.11s/it]"
          ]
        },
        {
          "output_type": "stream",
          "name": "stdout",
          "text": [
            "221/221 [==============================] - 3s 8ms/step\n",
            "26/26 [==============================] - 0s 8ms/step\n",
            "13/13 [==============================] - 0s 8ms/step\n"
          ]
        },
        {
          "output_type": "stream",
          "name": "stderr",
          "text": [
            "\r 12%|█▏        | 12/100 [01:04<07:39,  5.22s/it]"
          ]
        },
        {
          "output_type": "stream",
          "name": "stdout",
          "text": [
            "221/221 [==============================] - 2s 7ms/step\n",
            "26/26 [==============================] - 0s 8ms/step\n",
            "13/13 [==============================] - 0s 8ms/step\n"
          ]
        },
        {
          "output_type": "stream",
          "name": "stderr",
          "text": [
            "\r 13%|█▎        | 13/100 [01:08<07:14,  5.00s/it]"
          ]
        },
        {
          "output_type": "stream",
          "name": "stdout",
          "text": [
            "221/221 [==============================] - 2s 7ms/step\n",
            "26/26 [==============================] - 0s 10ms/step\n",
            "13/13 [==============================] - 0s 9ms/step\n"
          ]
        },
        {
          "output_type": "stream",
          "name": "stderr",
          "text": [
            "\r 14%|█▍        | 14/100 [01:13<07:17,  5.08s/it]"
          ]
        },
        {
          "output_type": "stream",
          "name": "stdout",
          "text": [
            "221/221 [==============================] - 3s 7ms/step\n",
            "26/26 [==============================] - 0s 7ms/step\n",
            "13/13 [==============================] - 0s 7ms/step\n"
          ]
        },
        {
          "output_type": "stream",
          "name": "stderr",
          "text": [
            "\r 15%|█▌        | 15/100 [01:19<07:23,  5.22s/it]"
          ]
        },
        {
          "output_type": "stream",
          "name": "stdout",
          "text": [
            "221/221 [==============================] - 2s 8ms/step\n",
            "26/26 [==============================] - 0s 8ms/step\n",
            "13/13 [==============================] - 0s 7ms/step\n"
          ]
        },
        {
          "output_type": "stream",
          "name": "stderr",
          "text": [
            "\r 16%|█▌        | 16/100 [01:24<07:05,  5.06s/it]"
          ]
        },
        {
          "output_type": "stream",
          "name": "stdout",
          "text": [
            "221/221 [==============================] - 4s 14ms/step\n",
            "26/26 [==============================] - 0s 8ms/step\n",
            "13/13 [==============================] - 0s 8ms/step\n"
          ]
        },
        {
          "output_type": "stream",
          "name": "stderr",
          "text": [
            "\r 17%|█▋        | 17/100 [01:32<08:22,  6.05s/it]"
          ]
        },
        {
          "output_type": "stream",
          "name": "stdout",
          "text": [
            "221/221 [==============================] - 3s 8ms/step\n",
            "26/26 [==============================] - 0s 8ms/step\n",
            "13/13 [==============================] - 0s 8ms/step\n"
          ]
        },
        {
          "output_type": "stream",
          "name": "stderr",
          "text": [
            "\r 18%|█▊        | 18/100 [01:37<07:44,  5.66s/it]"
          ]
        },
        {
          "output_type": "stream",
          "name": "stdout",
          "text": [
            "221/221 [==============================] - 3s 9ms/step\n",
            "26/26 [==============================] - 0s 11ms/step\n",
            "13/13 [==============================] - 0s 11ms/step\n"
          ]
        },
        {
          "output_type": "stream",
          "name": "stderr",
          "text": [
            "\r 19%|█▉        | 19/100 [01:42<07:37,  5.65s/it]"
          ]
        },
        {
          "output_type": "stream",
          "name": "stdout",
          "text": [
            "221/221 [==============================] - 3s 8ms/step\n",
            "26/26 [==============================] - 0s 8ms/step\n",
            "13/13 [==============================] - 0s 7ms/step\n"
          ]
        },
        {
          "output_type": "stream",
          "name": "stderr",
          "text": [
            "\r 20%|██        | 20/100 [01:47<07:17,  5.47s/it]"
          ]
        },
        {
          "output_type": "stream",
          "name": "stdout",
          "text": [
            "221/221 [==============================] - 2s 7ms/step\n",
            "26/26 [==============================] - 0s 8ms/step\n",
            "13/13 [==============================] - 0s 8ms/step\n"
          ]
        },
        {
          "output_type": "stream",
          "name": "stderr",
          "text": [
            "\r 21%|██        | 21/100 [01:52<06:51,  5.21s/it]"
          ]
        },
        {
          "output_type": "stream",
          "name": "stdout",
          "text": [
            "221/221 [==============================] - 3s 10ms/step\n",
            "26/26 [==============================] - 0s 10ms/step\n",
            "13/13 [==============================] - 0s 11ms/step\n"
          ]
        },
        {
          "output_type": "stream",
          "name": "stderr",
          "text": [
            "\r 22%|██▏       | 22/100 [01:58<06:54,  5.31s/it]"
          ]
        },
        {
          "output_type": "stream",
          "name": "stdout",
          "text": [
            "221/221 [==============================] - 3s 8ms/step\n",
            "26/26 [==============================] - 0s 7ms/step\n",
            "13/13 [==============================] - 0s 7ms/step\n"
          ]
        },
        {
          "output_type": "stream",
          "name": "stderr",
          "text": [
            "\r 23%|██▎       | 23/100 [02:04<07:07,  5.56s/it]"
          ]
        },
        {
          "output_type": "stream",
          "name": "stdout",
          "text": [
            "221/221 [==============================] - 3s 7ms/step\n",
            "26/26 [==============================] - 0s 10ms/step\n",
            "13/13 [==============================] - 0s 12ms/step\n"
          ]
        },
        {
          "output_type": "stream",
          "name": "stderr",
          "text": [
            "\r 24%|██▍       | 24/100 [02:09<06:53,  5.44s/it]"
          ]
        },
        {
          "output_type": "stream",
          "name": "stdout",
          "text": [
            "221/221 [==============================] - 3s 9ms/step\n",
            "26/26 [==============================] - 0s 8ms/step\n",
            "13/13 [==============================] - 0s 8ms/step\n"
          ]
        },
        {
          "output_type": "stream",
          "name": "stderr",
          "text": [
            "\r 25%|██▌       | 25/100 [02:14<06:51,  5.49s/it]"
          ]
        },
        {
          "output_type": "stream",
          "name": "stdout",
          "text": [
            "221/221 [==============================] - 3s 10ms/step\n",
            "26/26 [==============================] - 1s 19ms/step\n",
            "13/13 [==============================] - 0s 8ms/step\n"
          ]
        },
        {
          "output_type": "stream",
          "name": "stderr",
          "text": [
            "\r 26%|██▌       | 26/100 [02:21<07:05,  5.75s/it]"
          ]
        },
        {
          "output_type": "stream",
          "name": "stdout",
          "text": [
            "221/221 [==============================] - 3s 9ms/step\n",
            "26/26 [==============================] - 0s 10ms/step\n",
            "13/13 [==============================] - 0s 11ms/step\n"
          ]
        },
        {
          "output_type": "stream",
          "name": "stderr",
          "text": [
            "\r 27%|██▋       | 27/100 [02:26<06:55,  5.69s/it]"
          ]
        },
        {
          "output_type": "stream",
          "name": "stdout",
          "text": [
            "221/221 [==============================] - 2s 8ms/step\n",
            "26/26 [==============================] - 0s 7ms/step\n",
            "13/13 [==============================] - 0s 7ms/step\n"
          ]
        },
        {
          "output_type": "stream",
          "name": "stderr",
          "text": [
            "\r 28%|██▊       | 28/100 [02:32<06:49,  5.69s/it]"
          ]
        },
        {
          "output_type": "stream",
          "name": "stdout",
          "text": [
            "221/221 [==============================] - 2s 8ms/step\n",
            "26/26 [==============================] - 0s 9ms/step\n",
            "13/13 [==============================] - 0s 11ms/step\n"
          ]
        },
        {
          "output_type": "stream",
          "name": "stderr",
          "text": [
            "\r 29%|██▉       | 29/100 [02:37<06:38,  5.61s/it]"
          ]
        },
        {
          "output_type": "stream",
          "name": "stdout",
          "text": [
            "221/221 [==============================] - 3s 8ms/step\n",
            "26/26 [==============================] - 0s 8ms/step\n",
            "13/13 [==============================] - 0s 7ms/step\n"
          ]
        },
        {
          "output_type": "stream",
          "name": "stderr",
          "text": [
            "\r 30%|███       | 30/100 [02:43<06:26,  5.52s/it]"
          ]
        },
        {
          "output_type": "stream",
          "name": "stdout",
          "text": [
            "221/221 [==============================] - 3s 8ms/step\n",
            "26/26 [==============================] - 0s 8ms/step\n",
            "13/13 [==============================] - 0s 7ms/step\n"
          ]
        },
        {
          "output_type": "stream",
          "name": "stderr",
          "text": [
            "\r 31%|███       | 31/100 [02:48<06:10,  5.37s/it]"
          ]
        },
        {
          "output_type": "stream",
          "name": "stdout",
          "text": [
            "221/221 [==============================] - 3s 9ms/step\n",
            "26/26 [==============================] - 0s 10ms/step\n",
            "13/13 [==============================] - 0s 12ms/step\n"
          ]
        },
        {
          "output_type": "stream",
          "name": "stderr",
          "text": [
            "\r 32%|███▏      | 32/100 [02:53<06:04,  5.36s/it]"
          ]
        },
        {
          "output_type": "stream",
          "name": "stdout",
          "text": [
            "221/221 [==============================] - 2s 8ms/step\n",
            "26/26 [==============================] - 0s 8ms/step\n",
            "13/13 [==============================] - 0s 7ms/step\n"
          ]
        },
        {
          "output_type": "stream",
          "name": "stderr",
          "text": [
            "\r 33%|███▎      | 33/100 [02:58<05:58,  5.35s/it]"
          ]
        },
        {
          "output_type": "stream",
          "name": "stdout",
          "text": [
            "221/221 [==============================] - 3s 8ms/step\n",
            "26/26 [==============================] - 0s 8ms/step\n",
            "13/13 [==============================] - 0s 7ms/step\n"
          ]
        },
        {
          "output_type": "stream",
          "name": "stderr",
          "text": [
            "\r 34%|███▍      | 34/100 [03:04<05:52,  5.34s/it]"
          ]
        },
        {
          "output_type": "stream",
          "name": "stdout",
          "text": [
            "221/221 [==============================] - 3s 9ms/step\n",
            "26/26 [==============================] - 0s 10ms/step\n",
            "13/13 [==============================] - 0s 8ms/step\n"
          ]
        },
        {
          "output_type": "stream",
          "name": "stderr",
          "text": [
            "\r 35%|███▌      | 35/100 [03:09<05:48,  5.36s/it]"
          ]
        },
        {
          "output_type": "stream",
          "name": "stdout",
          "text": [
            "221/221 [==============================] - 2s 7ms/step\n",
            "26/26 [==============================] - 0s 7ms/step\n",
            "13/13 [==============================] - 0s 7ms/step\n"
          ]
        },
        {
          "output_type": "stream",
          "name": "stderr",
          "text": [
            "\r 36%|███▌      | 36/100 [03:14<05:35,  5.24s/it]"
          ]
        },
        {
          "output_type": "stream",
          "name": "stdout",
          "text": [
            "221/221 [==============================] - 3s 8ms/step\n",
            "26/26 [==============================] - 0s 10ms/step\n",
            "13/13 [==============================] - 0s 11ms/step\n"
          ]
        },
        {
          "output_type": "stream",
          "name": "stderr",
          "text": [
            "\r 37%|███▋      | 37/100 [03:20<05:46,  5.50s/it]"
          ]
        },
        {
          "output_type": "stream",
          "name": "stdout",
          "text": [
            "221/221 [==============================] - 3s 8ms/step\n",
            "26/26 [==============================] - 0s 7ms/step\n",
            "13/13 [==============================] - 0s 8ms/step\n"
          ]
        },
        {
          "output_type": "stream",
          "name": "stderr",
          "text": [
            "\r 38%|███▊      | 38/100 [03:25<05:35,  5.42s/it]"
          ]
        },
        {
          "output_type": "stream",
          "name": "stdout",
          "text": [
            "221/221 [==============================] - 3s 8ms/step\n",
            "26/26 [==============================] - 0s 8ms/step\n",
            "13/13 [==============================] - 0s 7ms/step\n"
          ]
        },
        {
          "output_type": "stream",
          "name": "stderr",
          "text": [
            "\r 39%|███▉      | 39/100 [03:31<05:33,  5.47s/it]"
          ]
        },
        {
          "output_type": "stream",
          "name": "stdout",
          "text": [
            "221/221 [==============================] - 3s 10ms/step\n",
            "26/26 [==============================] - 0s 10ms/step\n",
            "13/13 [==============================] - 0s 9ms/step\n"
          ]
        },
        {
          "output_type": "stream",
          "name": "stderr",
          "text": [
            "\r 40%|████      | 40/100 [03:37<05:29,  5.49s/it]"
          ]
        },
        {
          "output_type": "stream",
          "name": "stdout",
          "text": [
            "221/221 [==============================] - 3s 8ms/step\n",
            "26/26 [==============================] - 0s 8ms/step\n",
            "13/13 [==============================] - 0s 7ms/step\n"
          ]
        },
        {
          "output_type": "stream",
          "name": "stderr",
          "text": [
            "\r 41%|████      | 41/100 [03:41<05:11,  5.28s/it]"
          ]
        },
        {
          "output_type": "stream",
          "name": "stdout",
          "text": [
            "221/221 [==============================] - 2s 8ms/step\n",
            "26/26 [==============================] - 0s 8ms/step\n",
            "13/13 [==============================] - 0s 7ms/step\n"
          ]
        },
        {
          "output_type": "stream",
          "name": "stderr",
          "text": [
            "\r 42%|████▏     | 42/100 [03:46<05:00,  5.18s/it]"
          ]
        },
        {
          "output_type": "stream",
          "name": "stdout",
          "text": [
            "221/221 [==============================] - 3s 9ms/step\n",
            "26/26 [==============================] - 0s 9ms/step\n",
            "13/13 [==============================] - 0s 8ms/step\n"
          ]
        },
        {
          "output_type": "stream",
          "name": "stderr",
          "text": [
            "\r 43%|████▎     | 43/100 [03:52<05:09,  5.44s/it]"
          ]
        },
        {
          "output_type": "stream",
          "name": "stdout",
          "text": [
            "221/221 [==============================] - 3s 8ms/step\n",
            "26/26 [==============================] - 0s 8ms/step\n",
            "13/13 [==============================] - 0s 7ms/step\n"
          ]
        },
        {
          "output_type": "stream",
          "name": "stderr",
          "text": [
            "\r 44%|████▍     | 44/100 [03:58<05:04,  5.45s/it]"
          ]
        },
        {
          "output_type": "stream",
          "name": "stdout",
          "text": [
            "221/221 [==============================] - 3s 9ms/step\n",
            "26/26 [==============================] - 0s 10ms/step\n",
            "13/13 [==============================] - 0s 11ms/step\n"
          ]
        },
        {
          "output_type": "stream",
          "name": "stderr",
          "text": [
            "\r 45%|████▌     | 45/100 [04:04<05:09,  5.62s/it]"
          ]
        },
        {
          "output_type": "stream",
          "name": "stdout",
          "text": [
            "221/221 [==============================] - 2s 8ms/step\n",
            "26/26 [==============================] - 0s 8ms/step\n",
            "13/13 [==============================] - 0s 7ms/step\n"
          ]
        },
        {
          "output_type": "stream",
          "name": "stderr",
          "text": [
            "\r 46%|████▌     | 46/100 [04:09<04:57,  5.50s/it]"
          ]
        },
        {
          "output_type": "stream",
          "name": "stdout",
          "text": [
            "221/221 [==============================] - 3s 8ms/step\n",
            "26/26 [==============================] - 0s 7ms/step\n",
            "13/13 [==============================] - 0s 7ms/step\n"
          ]
        },
        {
          "output_type": "stream",
          "name": "stderr",
          "text": [
            "\r 47%|████▋     | 47/100 [04:15<04:55,  5.58s/it]"
          ]
        },
        {
          "output_type": "stream",
          "name": "stdout",
          "text": [
            "221/221 [==============================] - 3s 9ms/step\n",
            "26/26 [==============================] - 0s 7ms/step\n",
            "13/13 [==============================] - 0s 7ms/step\n"
          ]
        },
        {
          "output_type": "stream",
          "name": "stderr",
          "text": [
            "\r 48%|████▊     | 48/100 [04:21<05:01,  5.80s/it]"
          ]
        },
        {
          "output_type": "stream",
          "name": "stdout",
          "text": [
            "221/221 [==============================] - 2s 7ms/step\n",
            "26/26 [==============================] - 0s 8ms/step\n",
            "13/13 [==============================] - 0s 8ms/step\n"
          ]
        },
        {
          "output_type": "stream",
          "name": "stderr",
          "text": [
            "\r 49%|████▉     | 49/100 [04:26<04:48,  5.65s/it]"
          ]
        },
        {
          "output_type": "stream",
          "name": "stdout",
          "text": [
            "221/221 [==============================] - 3s 9ms/step\n",
            "26/26 [==============================] - 0s 9ms/step\n",
            "13/13 [==============================] - 0s 10ms/step\n"
          ]
        },
        {
          "output_type": "stream",
          "name": "stderr",
          "text": [
            "\r 50%|█████     | 50/100 [04:32<04:35,  5.50s/it]"
          ]
        },
        {
          "output_type": "stream",
          "name": "stdout",
          "text": [
            "221/221 [==============================] - 3s 8ms/step\n",
            "26/26 [==============================] - 0s 8ms/step\n",
            "13/13 [==============================] - 0s 7ms/step\n"
          ]
        },
        {
          "output_type": "stream",
          "name": "stderr",
          "text": [
            "\r 51%|█████     | 51/100 [04:37<04:32,  5.56s/it]"
          ]
        },
        {
          "output_type": "stream",
          "name": "stdout",
          "text": [
            "221/221 [==============================] - 3s 8ms/step\n",
            "26/26 [==============================] - 0s 8ms/step\n",
            "13/13 [==============================] - 0s 8ms/step\n"
          ]
        },
        {
          "output_type": "stream",
          "name": "stderr",
          "text": [
            "\r 52%|█████▏    | 52/100 [04:42<04:13,  5.29s/it]"
          ]
        },
        {
          "output_type": "stream",
          "name": "stdout",
          "text": [
            "221/221 [==============================] - 4s 10ms/step\n",
            "26/26 [==============================] - 0s 10ms/step\n",
            "13/13 [==============================] - 0s 10ms/step\n"
          ]
        },
        {
          "output_type": "stream",
          "name": "stderr",
          "text": [
            "\r 53%|█████▎    | 53/100 [04:47<04:11,  5.35s/it]"
          ]
        },
        {
          "output_type": "stream",
          "name": "stdout",
          "text": [
            "221/221 [==============================] - 2s 8ms/step\n",
            "26/26 [==============================] - 0s 8ms/step\n",
            "13/13 [==============================] - 0s 8ms/step\n"
          ]
        },
        {
          "output_type": "stream",
          "name": "stderr",
          "text": [
            "\r 54%|█████▍    | 54/100 [04:52<03:59,  5.20s/it]"
          ]
        },
        {
          "output_type": "stream",
          "name": "stdout",
          "text": [
            "221/221 [==============================] - 3s 8ms/step\n",
            "26/26 [==============================] - 0s 7ms/step\n",
            "13/13 [==============================] - 0s 8ms/step\n"
          ]
        },
        {
          "output_type": "stream",
          "name": "stderr",
          "text": [
            "\r 55%|█████▌    | 55/100 [04:57<03:47,  5.05s/it]"
          ]
        },
        {
          "output_type": "stream",
          "name": "stdout",
          "text": [
            "221/221 [==============================] - 3s 10ms/step\n",
            "26/26 [==============================] - 0s 10ms/step\n",
            "13/13 [==============================] - 0s 7ms/step\n"
          ]
        },
        {
          "output_type": "stream",
          "name": "stderr",
          "text": [
            "\r 56%|█████▌    | 56/100 [05:03<03:50,  5.23s/it]"
          ]
        },
        {
          "output_type": "stream",
          "name": "stdout",
          "text": [
            "221/221 [==============================] - 3s 8ms/step\n",
            "26/26 [==============================] - 0s 7ms/step\n",
            "13/13 [==============================] - 0s 8ms/step\n"
          ]
        },
        {
          "output_type": "stream",
          "name": "stderr",
          "text": [
            "\r 57%|█████▋    | 57/100 [05:08<03:44,  5.22s/it]"
          ]
        },
        {
          "output_type": "stream",
          "name": "stdout",
          "text": [
            "221/221 [==============================] - 3s 8ms/step\n",
            "26/26 [==============================] - 0s 10ms/step\n",
            "13/13 [==============================] - 0s 10ms/step\n"
          ]
        },
        {
          "output_type": "stream",
          "name": "stderr",
          "text": [
            "\r 58%|█████▊    | 58/100 [05:13<03:38,  5.21s/it]"
          ]
        },
        {
          "output_type": "stream",
          "name": "stdout",
          "text": [
            "221/221 [==============================] - 3s 8ms/step\n",
            "26/26 [==============================] - 0s 8ms/step\n",
            "13/13 [==============================] - 0s 8ms/step\n"
          ]
        },
        {
          "output_type": "stream",
          "name": "stderr",
          "text": [
            "\r 59%|█████▉    | 59/100 [05:19<03:47,  5.55s/it]"
          ]
        },
        {
          "output_type": "stream",
          "name": "stdout",
          "text": [
            "221/221 [==============================] - 3s 8ms/step\n",
            "26/26 [==============================] - 0s 8ms/step\n",
            "13/13 [==============================] - 0s 8ms/step\n"
          ]
        },
        {
          "output_type": "stream",
          "name": "stderr",
          "text": [
            "\r 60%|██████    | 60/100 [05:24<03:30,  5.26s/it]"
          ]
        },
        {
          "output_type": "stream",
          "name": "stdout",
          "text": [
            "221/221 [==============================] - 3s 10ms/step\n",
            "26/26 [==============================] - 0s 11ms/step\n",
            "13/13 [==============================] - 0s 11ms/step\n"
          ]
        },
        {
          "output_type": "stream",
          "name": "stderr",
          "text": [
            "\r 61%|██████    | 61/100 [05:30<03:31,  5.41s/it]"
          ]
        },
        {
          "output_type": "stream",
          "name": "stdout",
          "text": [
            "221/221 [==============================] - 3s 8ms/step\n",
            "26/26 [==============================] - 0s 8ms/step\n",
            "13/13 [==============================] - 0s 7ms/step\n"
          ]
        },
        {
          "output_type": "stream",
          "name": "stderr",
          "text": [
            "\r 62%|██████▏   | 62/100 [05:35<03:28,  5.49s/it]"
          ]
        },
        {
          "output_type": "stream",
          "name": "stdout",
          "text": [
            "221/221 [==============================] - 3s 8ms/step\n",
            "26/26 [==============================] - 0s 8ms/step\n",
            "13/13 [==============================] - 0s 8ms/step\n"
          ]
        },
        {
          "output_type": "stream",
          "name": "stderr",
          "text": [
            "\r 63%|██████▎   | 63/100 [05:41<03:20,  5.41s/it]"
          ]
        },
        {
          "output_type": "stream",
          "name": "stdout",
          "text": [
            "221/221 [==============================] - 3s 10ms/step\n",
            "26/26 [==============================] - 0s 8ms/step\n",
            "13/13 [==============================] - 0s 7ms/step\n"
          ]
        },
        {
          "output_type": "stream",
          "name": "stderr",
          "text": [
            "\r 64%|██████▍   | 64/100 [05:46<03:19,  5.55s/it]"
          ]
        },
        {
          "output_type": "stream",
          "name": "stdout",
          "text": [
            "221/221 [==============================] - 2s 8ms/step\n",
            "26/26 [==============================] - 0s 7ms/step\n",
            "13/13 [==============================] - 0s 8ms/step\n"
          ]
        },
        {
          "output_type": "stream",
          "name": "stderr",
          "text": [
            "\r 65%|██████▌   | 65/100 [05:51<03:01,  5.20s/it]"
          ]
        },
        {
          "output_type": "stream",
          "name": "stdout",
          "text": [
            "221/221 [==============================] - 3s 8ms/step\n",
            "26/26 [==============================] - 0s 11ms/step\n",
            "13/13 [==============================] - 0s 9ms/step\n"
          ]
        },
        {
          "output_type": "stream",
          "name": "stderr",
          "text": [
            "\r 66%|██████▌   | 66/100 [05:57<03:05,  5.46s/it]"
          ]
        },
        {
          "output_type": "stream",
          "name": "stdout",
          "text": [
            "221/221 [==============================] - 3s 8ms/step\n",
            "26/26 [==============================] - 0s 7ms/step\n",
            "13/13 [==============================] - 0s 8ms/step\n"
          ]
        },
        {
          "output_type": "stream",
          "name": "stderr",
          "text": [
            "\r 67%|██████▋   | 67/100 [06:03<03:03,  5.55s/it]"
          ]
        },
        {
          "output_type": "stream",
          "name": "stdout",
          "text": [
            "221/221 [==============================] - 3s 8ms/step\n",
            "26/26 [==============================] - 0s 8ms/step\n",
            "13/13 [==============================] - 0s 8ms/step\n"
          ]
        },
        {
          "output_type": "stream",
          "name": "stderr",
          "text": [
            "\r 68%|██████▊   | 68/100 [06:08<02:54,  5.45s/it]"
          ]
        },
        {
          "output_type": "stream",
          "name": "stdout",
          "text": [
            "221/221 [==============================] - 3s 10ms/step\n",
            "26/26 [==============================] - 0s 11ms/step\n",
            "13/13 [==============================] - 0s 10ms/step\n"
          ]
        },
        {
          "output_type": "stream",
          "name": "stderr",
          "text": [
            "\r 69%|██████▉   | 69/100 [06:13<02:47,  5.40s/it]"
          ]
        },
        {
          "output_type": "stream",
          "name": "stdout",
          "text": [
            "221/221 [==============================] - 3s 8ms/step\n",
            "26/26 [==============================] - 0s 7ms/step\n",
            "13/13 [==============================] - 0s 8ms/step\n"
          ]
        },
        {
          "output_type": "stream",
          "name": "stderr",
          "text": [
            "\r 70%|███████   | 70/100 [06:18<02:37,  5.27s/it]"
          ]
        },
        {
          "output_type": "stream",
          "name": "stdout",
          "text": [
            "221/221 [==============================] - 3s 8ms/step\n",
            "26/26 [==============================] - 0s 8ms/step\n",
            "13/13 [==============================] - 0s 8ms/step\n"
          ]
        },
        {
          "output_type": "stream",
          "name": "stderr",
          "text": [
            "\r 71%|███████   | 71/100 [06:23<02:30,  5.20s/it]"
          ]
        },
        {
          "output_type": "stream",
          "name": "stdout",
          "text": [
            "221/221 [==============================] - 4s 9ms/step\n",
            "26/26 [==============================] - 0s 8ms/step\n",
            "13/13 [==============================] - 0s 8ms/step\n"
          ]
        },
        {
          "output_type": "stream",
          "name": "stderr",
          "text": [
            "\r 72%|███████▏  | 72/100 [06:30<02:36,  5.57s/it]"
          ]
        },
        {
          "output_type": "stream",
          "name": "stdout",
          "text": [
            "221/221 [==============================] - 3s 8ms/step\n",
            "26/26 [==============================] - 0s 8ms/step\n",
            "13/13 [==============================] - 0s 8ms/step\n"
          ]
        },
        {
          "output_type": "stream",
          "name": "stderr",
          "text": [
            "\r 73%|███████▎  | 73/100 [06:34<02:24,  5.35s/it]"
          ]
        },
        {
          "output_type": "stream",
          "name": "stdout",
          "text": [
            "221/221 [==============================] - 3s 9ms/step\n",
            "26/26 [==============================] - 0s 9ms/step\n",
            "13/13 [==============================] - 0s 10ms/step\n"
          ]
        },
        {
          "output_type": "stream",
          "name": "stderr",
          "text": [
            "\r 74%|███████▍  | 74/100 [06:41<02:25,  5.60s/it]"
          ]
        },
        {
          "output_type": "stream",
          "name": "stdout",
          "text": [
            "221/221 [==============================] - 3s 8ms/step\n",
            "26/26 [==============================] - 0s 8ms/step\n",
            "13/13 [==============================] - 0s 8ms/step\n"
          ]
        },
        {
          "output_type": "stream",
          "name": "stderr",
          "text": [
            "\r 75%|███████▌  | 75/100 [06:46<02:19,  5.57s/it]"
          ]
        },
        {
          "output_type": "stream",
          "name": "stdout",
          "text": [
            "221/221 [==============================] - 3s 8ms/step\n",
            "26/26 [==============================] - 0s 8ms/step\n",
            "13/13 [==============================] - 0s 8ms/step\n"
          ]
        },
        {
          "output_type": "stream",
          "name": "stderr",
          "text": [
            "\r 76%|███████▌  | 76/100 [06:51<02:06,  5.26s/it]"
          ]
        },
        {
          "output_type": "stream",
          "name": "stdout",
          "text": [
            "221/221 [==============================] - 3s 10ms/step\n",
            "26/26 [==============================] - 0s 11ms/step\n",
            "13/13 [==============================] - 0s 11ms/step\n"
          ]
        },
        {
          "output_type": "stream",
          "name": "stderr",
          "text": [
            "\r 77%|███████▋  | 77/100 [06:56<02:03,  5.37s/it]"
          ]
        },
        {
          "output_type": "stream",
          "name": "stdout",
          "text": [
            "221/221 [==============================] - 3s 8ms/step\n",
            "26/26 [==============================] - 0s 8ms/step\n",
            "13/13 [==============================] - 0s 9ms/step\n"
          ]
        },
        {
          "output_type": "stream",
          "name": "stderr",
          "text": [
            "\r 78%|███████▊  | 78/100 [07:01<01:54,  5.20s/it]"
          ]
        },
        {
          "output_type": "stream",
          "name": "stdout",
          "text": [
            "221/221 [==============================] - 3s 8ms/step\n",
            "26/26 [==============================] - 0s 10ms/step\n",
            "13/13 [==============================] - 0s 10ms/step\n"
          ]
        },
        {
          "output_type": "stream",
          "name": "stderr",
          "text": [
            "\r 79%|███████▉  | 79/100 [07:07<01:56,  5.55s/it]"
          ]
        },
        {
          "output_type": "stream",
          "name": "stdout",
          "text": [
            "221/221 [==============================] - 3s 8ms/step\n",
            "26/26 [==============================] - 0s 8ms/step\n",
            "13/13 [==============================] - 0s 8ms/step\n"
          ]
        },
        {
          "output_type": "stream",
          "name": "stderr",
          "text": [
            "\r 80%|████████  | 80/100 [07:13<01:50,  5.53s/it]"
          ]
        },
        {
          "output_type": "stream",
          "name": "stdout",
          "text": [
            "221/221 [==============================] - 3s 8ms/step\n",
            "26/26 [==============================] - 0s 8ms/step\n",
            "13/13 [==============================] - 0s 8ms/step\n"
          ]
        },
        {
          "output_type": "stream",
          "name": "stderr",
          "text": [
            "\r 81%|████████  | 81/100 [07:19<01:48,  5.71s/it]"
          ]
        },
        {
          "output_type": "stream",
          "name": "stdout",
          "text": [
            "221/221 [==============================] - 3s 10ms/step\n",
            "26/26 [==============================] - 0s 10ms/step\n",
            "13/13 [==============================] - 0s 10ms/step\n"
          ]
        },
        {
          "output_type": "stream",
          "name": "stderr",
          "text": [
            "\r 82%|████████▏ | 82/100 [07:25<01:42,  5.70s/it]"
          ]
        },
        {
          "output_type": "stream",
          "name": "stdout",
          "text": [
            "221/221 [==============================] - 2s 8ms/step\n",
            "26/26 [==============================] - 0s 7ms/step\n",
            "13/13 [==============================] - 0s 7ms/step\n"
          ]
        },
        {
          "output_type": "stream",
          "name": "stderr",
          "text": [
            "\r 83%|████████▎ | 83/100 [07:30<01:33,  5.49s/it]"
          ]
        },
        {
          "output_type": "stream",
          "name": "stdout",
          "text": [
            "221/221 [==============================] - 2s 8ms/step\n",
            "26/26 [==============================] - 0s 7ms/step\n",
            "13/13 [==============================] - 0s 8ms/step\n"
          ]
        },
        {
          "output_type": "stream",
          "name": "stderr",
          "text": [
            "\r 84%|████████▍ | 84/100 [07:34<01:22,  5.19s/it]"
          ]
        },
        {
          "output_type": "stream",
          "name": "stdout",
          "text": [
            "221/221 [==============================] - 3s 10ms/step\n",
            "26/26 [==============================] - 0s 10ms/step\n",
            "13/13 [==============================] - 0s 9ms/step\n"
          ]
        },
        {
          "output_type": "stream",
          "name": "stderr",
          "text": [
            "\r 85%|████████▌ | 85/100 [07:40<01:19,  5.27s/it]"
          ]
        },
        {
          "output_type": "stream",
          "name": "stdout",
          "text": [
            "221/221 [==============================] - 3s 8ms/step\n",
            "26/26 [==============================] - 0s 8ms/step\n",
            "13/13 [==============================] - 0s 8ms/step\n"
          ]
        },
        {
          "output_type": "stream",
          "name": "stderr",
          "text": [
            "\r 86%|████████▌ | 86/100 [07:46<01:17,  5.53s/it]"
          ]
        },
        {
          "output_type": "stream",
          "name": "stdout",
          "text": [
            "221/221 [==============================] - 3s 8ms/step\n",
            "26/26 [==============================] - 0s 10ms/step\n",
            "13/13 [==============================] - 0s 9ms/step\n"
          ]
        },
        {
          "output_type": "stream",
          "name": "stderr",
          "text": [
            "\r 87%|████████▋ | 87/100 [07:51<01:08,  5.30s/it]"
          ]
        },
        {
          "output_type": "stream",
          "name": "stdout",
          "text": [
            "221/221 [==============================] - 3s 8ms/step\n",
            "26/26 [==============================] - 0s 8ms/step\n",
            "13/13 [==============================] - 0s 7ms/step\n"
          ]
        },
        {
          "output_type": "stream",
          "name": "stderr",
          "text": [
            "\r 88%|████████▊ | 88/100 [07:57<01:05,  5.48s/it]"
          ]
        },
        {
          "output_type": "stream",
          "name": "stdout",
          "text": [
            "221/221 [==============================] - 3s 8ms/step\n",
            "26/26 [==============================] - 0s 8ms/step\n",
            "13/13 [==============================] - 0s 8ms/step\n"
          ]
        },
        {
          "output_type": "stream",
          "name": "stderr",
          "text": [
            "\r 89%|████████▉ | 89/100 [08:01<00:57,  5.21s/it]"
          ]
        },
        {
          "output_type": "stream",
          "name": "stdout",
          "text": [
            "221/221 [==============================] - 3s 9ms/step\n",
            "26/26 [==============================] - 0s 10ms/step\n",
            "13/13 [==============================] - 0s 11ms/step\n"
          ]
        },
        {
          "output_type": "stream",
          "name": "stderr",
          "text": [
            "\r 90%|█████████ | 90/100 [08:06<00:52,  5.26s/it]"
          ]
        },
        {
          "output_type": "stream",
          "name": "stdout",
          "text": [
            "221/221 [==============================] - 3s 8ms/step\n",
            "26/26 [==============================] - 0s 8ms/step\n",
            "13/13 [==============================] - 0s 8ms/step\n"
          ]
        },
        {
          "output_type": "stream",
          "name": "stderr",
          "text": [
            "\r 91%|█████████ | 91/100 [08:11<00:45,  5.11s/it]"
          ]
        },
        {
          "output_type": "stream",
          "name": "stdout",
          "text": [
            "221/221 [==============================] - 3s 8ms/step\n",
            "26/26 [==============================] - 0s 8ms/step\n",
            "13/13 [==============================] - 0s 8ms/step\n"
          ]
        },
        {
          "output_type": "stream",
          "name": "stderr",
          "text": [
            "\r 92%|█████████▏| 92/100 [08:16<00:40,  5.11s/it]"
          ]
        },
        {
          "output_type": "stream",
          "name": "stdout",
          "text": [
            "221/221 [==============================] - 5s 10ms/step\n",
            "26/26 [==============================] - 0s 8ms/step\n",
            "13/13 [==============================] - 0s 8ms/step\n"
          ]
        },
        {
          "output_type": "stream",
          "name": "stderr",
          "text": [
            "\r 93%|█████████▎| 93/100 [08:23<00:38,  5.54s/it]"
          ]
        },
        {
          "output_type": "stream",
          "name": "stdout",
          "text": [
            "221/221 [==============================] - 3s 8ms/step\n",
            "26/26 [==============================] - 0s 8ms/step\n",
            "13/13 [==============================] - 0s 8ms/step\n"
          ]
        },
        {
          "output_type": "stream",
          "name": "stderr",
          "text": [
            "\r 94%|█████████▍| 94/100 [08:28<00:31,  5.27s/it]"
          ]
        },
        {
          "output_type": "stream",
          "name": "stdout",
          "text": [
            "221/221 [==============================] - 3s 8ms/step\n",
            "26/26 [==============================] - 0s 11ms/step\n",
            "13/13 [==============================] - 0s 13ms/step\n"
          ]
        },
        {
          "output_type": "stream",
          "name": "stderr",
          "text": [
            "\r 95%|█████████▌| 95/100 [08:33<00:27,  5.44s/it]"
          ]
        },
        {
          "output_type": "stream",
          "name": "stdout",
          "text": [
            "221/221 [==============================] - 3s 8ms/step\n",
            "26/26 [==============================] - 0s 8ms/step\n",
            "13/13 [==============================] - 0s 8ms/step\n"
          ]
        },
        {
          "output_type": "stream",
          "name": "stderr",
          "text": [
            "\r 96%|█████████▌| 96/100 [08:39<00:22,  5.51s/it]"
          ]
        },
        {
          "output_type": "stream",
          "name": "stdout",
          "text": [
            "221/221 [==============================] - 3s 8ms/step\n",
            "26/26 [==============================] - 0s 9ms/step\n",
            "13/13 [==============================] - 0s 7ms/step\n"
          ]
        },
        {
          "output_type": "stream",
          "name": "stderr",
          "text": [
            "\r 97%|█████████▋| 97/100 [08:44<00:16,  5.41s/it]"
          ]
        },
        {
          "output_type": "stream",
          "name": "stdout",
          "text": [
            "221/221 [==============================] - 3s 9ms/step\n",
            "26/26 [==============================] - 0s 11ms/step\n",
            "13/13 [==============================] - 0s 11ms/step\n"
          ]
        },
        {
          "output_type": "stream",
          "name": "stderr",
          "text": [
            "\r 98%|█████████▊| 98/100 [08:50<00:11,  5.53s/it]"
          ]
        },
        {
          "output_type": "stream",
          "name": "stdout",
          "text": [
            "221/221 [==============================] - 3s 8ms/step\n",
            "26/26 [==============================] - 0s 8ms/step\n",
            "13/13 [==============================] - 0s 8ms/step\n"
          ]
        },
        {
          "output_type": "stream",
          "name": "stderr",
          "text": [
            "\r 99%|█████████▉| 99/100 [08:55<00:05,  5.43s/it]"
          ]
        },
        {
          "output_type": "stream",
          "name": "stdout",
          "text": [
            "221/221 [==============================] - 3s 8ms/step\n",
            "26/26 [==============================] - 0s 8ms/step\n",
            "13/13 [==============================] - 0s 8ms/step\n"
          ]
        },
        {
          "output_type": "stream",
          "name": "stderr",
          "text": [
            "100%|██████████| 100/100 [09:00<00:00,  5.40s/it]\n"
          ]
        }
      ]
    },
    {
      "cell_type": "code",
      "source": [
        "optimum = optimum_select_comb(df_pre, df_strat)\n",
        "optimum[0]"
      ],
      "metadata": {
        "colab": {
          "base_uri": "https://localhost:8080/"
        },
        "id": "RRtZpeGK3TdB",
        "outputId": "60bf3053-6f91-481f-f1fc-520f70b0676d"
      },
      "execution_count": null,
      "outputs": [
        {
          "output_type": "execute_result",
          "data": {
            "text/plain": [
              "('RNN_40', 'RNN_12', 'RNN_16', 'RNN_43', 'RNN_17', 'RNN_1', 'RNN_81')"
            ]
          },
          "metadata": {},
          "execution_count": 41
        }
      ]
    },
    {
      "cell_type": "markdown",
      "source": [
        "#Backtesting"
      ],
      "metadata": {
        "id": "mbskh7OU8KAG"
      }
    },
    {
      "cell_type": "code",
      "execution_count": null,
      "metadata": {
        "colab": {
          "base_uri": "https://localhost:8080/",
          "height": 1000
        },
        "id": "XQAavrtft80S",
        "outputId": "15742d61-745f-441f-91a1-1d9acca3fc91"
      },
      "outputs": [
        {
          "output_type": "display_data",
          "data": {
            "text/plain": [
              "<Figure size 1080x576 with 1 Axes>"
            ],
            "image/png": "[encoded data removed]"
          },
          "metadata": {}
        },
        {
          "output_type": "stream",
          "name": "stdout",
          "text": [
            "              RNN_40    RNN_12    RNN_16    RNN_43    RNN_17     RNN_1  \\\n",
            "date                                                                     \n",
            "2021-07-21 -0.008242 -0.008242 -0.008242  0.008242  0.008242 -0.008242   \n",
            "2021-07-22  0.000000  0.000000  0.000000  0.000000  0.000000  0.000000   \n",
            "2021-07-23  0.000000  0.000000  0.000000  0.000000  0.000000  0.000000   \n",
            "2021-07-26  0.000000  0.000000  0.000000  0.000000  0.000000  0.000000   \n",
            "2021-07-27 -0.000000 -0.000000 -0.000000 -0.000000 -0.000000 -0.000000   \n",
            "...              ...       ...       ...       ...       ...       ...   \n",
            "2023-03-09  0.018459  0.018459 -0.018459  0.018459 -0.018459  0.018459   \n",
            "2023-03-10  0.014478  0.014478 -0.014478  0.014478 -0.014478  0.014478   \n",
            "2023-03-13  0.001510  0.001510 -0.001510  0.001510 -0.001510 -0.001510   \n",
            "2023-03-14 -0.016477 -0.016477  0.016477  0.016477  0.016477  0.016477   \n",
            "2023-03-15  0.006981  0.006981 -0.006981 -0.006981  0.006981 -0.006981   \n",
            "\n",
            "              RNN_81  \n",
            "date                  \n",
            "2021-07-21  0.008242  \n",
            "2021-07-22  0.000000  \n",
            "2021-07-23  0.000000  \n",
            "2021-07-26  0.000000  \n",
            "2021-07-27 -0.000000  \n",
            "...              ...  \n",
            "2023-03-09 -0.018459  \n",
            "2023-03-10 -0.014478  \n",
            "2023-03-13 -0.001510  \n",
            "2023-03-14 -0.016477  \n",
            "2023-03-15 -0.006981  \n",
            "\n",
            "[416 rows x 7 columns]\n"
          ]
        },
        {
          "output_type": "display_data",
          "data": {
            "text/plain": [
              "<Figure size 1080x576 with 2 Axes>"
            ],
            "image/png": "[encoded data removed]"
          },
          "metadata": {}
        }
      ],
      "source": [
        "#Selección de los modelos con las mejores estrategias:\n",
        "best_models = ['RNN_40', 'RNN_12', 'RNN_16', 'RNN_43', 'RNN_17', 'RNN_1', 'RNN_81']\n",
        "best_strategies = df_strat[best_models].iloc[split_val:]\n",
        "\n",
        "#Graph val-test\n",
        "plt.figure(figsize=(15,8))\n",
        "plt.plot(best_strategies.cumsum(axis=0), alpha=0.6)\n",
        "plt.axhline(0, color=\"red\")\n",
        "plt.title(\"RNN Returns validation & testing data\")\n",
        "plt.ylabel(\"Return\")\n",
        "plt.xlabel(\"Time\")\n",
        "plt.show()\n",
        "print(best_strategies)\n",
        "\n",
        "#Graph test\n",
        "plt.figure(figsize=(15,8))\n",
        "ax1 = plt.subplot(111)\n",
        "ax1.plot(df_strat[best_models].iloc[split_val:].cumsum(axis=0))\n",
        "plt.ylabel(\"Return\")\n",
        "plt.xlabel(\"Time\")\n",
        "plt.axhline(0, color=\"red\")\n",
        "ax2 = ax1.twinx();\n",
        "ax2.plot(df[['close']].iloc[split_val:], color = \"orange\", alpha = 0.3)\n",
        "plt.ylabel(\"SP500 price\")\n",
        "plt.title(\"Best Models Returns testing data & SP500 price (orange)\")\n",
        "plt.show()"
      ]
    },
    {
      "cell_type": "code",
      "source": [
        "#Calculamos decisiones de compra o venta\n",
        "best_pre = df_pre[best_models].iloc[:];\n",
        "best_pre[\"Buy\"] = (np.sign(best_pre) == 1).sum(axis=1);\n",
        "best_pre[\"Sell\"] = (np.sign(best_pre) == -1).sum(axis=1);\n",
        "best_pre"
      ],
      "metadata": {
        "colab": {
          "base_uri": "https://localhost:8080/",
          "height": 455
        },
        "id": "mC6iqdCNSZ1r",
        "outputId": "1a200d87-1f3c-4d45-b10a-18f5b39b444f"
      },
      "execution_count": null,
      "outputs": [
        {
          "output_type": "execute_result",
          "data": {
            "text/plain": [
              "              RNN_40    RNN_12    RNN_16    RNN_43    RNN_17     RNN_1  \\\n",
              "date                                                                     \n",
              "1990-03-29  0.000000  0.000000  0.000000  0.000000  0.000000  0.000000   \n",
              "1990-03-30  0.000000  0.000000  0.000000  0.000000  0.000000  0.000000   \n",
              "1990-04-02  0.000000  0.000000  0.000000  0.000000  0.000000  0.000000   \n",
              "1990-04-03  0.000000  0.000000  0.000000  0.000000  0.000000  0.000000   \n",
              "1990-04-04  0.000000  0.000000  0.000000  0.000000  0.000000  0.000000   \n",
              "...              ...       ...       ...       ...       ...       ...   \n",
              "2023-03-09 -0.000568 -0.000220  0.001044 -0.000755  0.000965 -0.000135   \n",
              "2023-03-10 -0.000490 -0.000014  0.000829 -0.000744  0.000507  0.000191   \n",
              "2023-03-13 -0.000336 -0.000505  0.001077  0.000072  0.000025  0.000440   \n",
              "2023-03-14 -0.000207 -0.002294  0.001490  0.000125 -0.000043  0.000664   \n",
              "2023-03-15 -0.000096 -0.003665  0.003156  0.000308  0.000242  0.000667   \n",
              "\n",
              "              RNN_81  Buy  Sell  \n",
              "date                             \n",
              "1990-03-29  0.000000    0     0  \n",
              "1990-03-30  0.000000    0     0  \n",
              "1990-04-02  0.000000    0     0  \n",
              "1990-04-03  0.000000    0     0  \n",
              "1990-04-04  0.000000    0     0  \n",
              "...              ...  ...   ...  \n",
              "2023-03-09  0.000090    3     4  \n",
              "2023-03-10  0.000116    4     3  \n",
              "2023-03-13 -0.000177    4     3  \n",
              "2023-03-14  0.000029    4     3  \n",
              "2023-03-15 -0.000163    4     3  \n",
              "\n",
              "[8304 rows x 9 columns]"
            ],
            "text/html": [
              "\n",
              "  <div id=\"df-47e820a3-01b9-4e18-8430-62aa204fd25b\">\n",
              "    <div class=\"colab-df-container\">\n",
              "      <div>\n",
              "<style scoped>\n",
              "    .dataframe tbody tr th:only-of-type {\n",
              "        vertical-align: middle;\n",
              "    }\n",
              "\n",
              "    .dataframe tbody tr th {\n",
              "        vertical-align: top;\n",
              "    }\n",
              "\n",
              "    .dataframe thead th {\n",
              "        text-align: right;\n",
              "    }\n",
              "</style>\n",
              "<table border=\"1\" class=\"dataframe\">\n",
              "  <thead>\n",
              "    <tr style=\"text-align: right;\">\n",
              "      <th></th>\n",
              "      <th>RNN_40</th>\n",
              "      <th>RNN_12</th>\n",
              "      <th>RNN_16</th>\n",
              "      <th>RNN_43</th>\n",
              "      <th>RNN_17</th>\n",
              "      <th>RNN_1</th>\n",
              "      <th>RNN_81</th>\n",
              "      <th>Buy</th>\n",
              "      <th>Sell</th>\n",
              "    </tr>\n",
              "    <tr>\n",
              "      <th>date</th>\n",
              "      <th></th>\n",
              "      <th></th>\n",
              "      <th></th>\n",
              "      <th></th>\n",
              "      <th></th>\n",
              "      <th></th>\n",
              "      <th></th>\n",
              "      <th></th>\n",
              "      <th></th>\n",
              "    </tr>\n",
              "  </thead>\n",
              "  <tbody>\n",
              "    <tr>\n",
              "      <th>1990-03-29</th>\n",
              "      <td>0.000000</td>\n",
              "      <td>0.000000</td>\n",
              "      <td>0.000000</td>\n",
              "      <td>0.000000</td>\n",
              "      <td>0.000000</td>\n",
              "      <td>0.000000</td>\n",
              "      <td>0.000000</td>\n",
              "      <td>0</td>\n",
              "      <td>0</td>\n",
              "    </tr>\n",
              "    <tr>\n",
              "      <th>1990-03-30</th>\n",
              "      <td>0.000000</td>\n",
              "      <td>0.000000</td>\n",
              "      <td>0.000000</td>\n",
              "      <td>0.000000</td>\n",
              "      <td>0.000000</td>\n",
              "      <td>0.000000</td>\n",
              "      <td>0.000000</td>\n",
              "      <td>0</td>\n",
              "      <td>0</td>\n",
              "    </tr>\n",
              "    <tr>\n",
              "      <th>1990-04-02</th>\n",
              "      <td>0.000000</td>\n",
              "      <td>0.000000</td>\n",
              "      <td>0.000000</td>\n",
              "      <td>0.000000</td>\n",
              "      <td>0.000000</td>\n",
              "      <td>0.000000</td>\n",
              "      <td>0.000000</td>\n",
              "      <td>0</td>\n",
              "      <td>0</td>\n",
              "    </tr>\n",
              "    <tr>\n",
              "      <th>1990-04-03</th>\n",
              "      <td>0.000000</td>\n",
              "      <td>0.000000</td>\n",
              "      <td>0.000000</td>\n",
              "      <td>0.000000</td>\n",
              "      <td>0.000000</td>\n",
              "      <td>0.000000</td>\n",
              "      <td>0.000000</td>\n",
              "      <td>0</td>\n",
              "      <td>0</td>\n",
              "    </tr>\n",
              "    <tr>\n",
              "      <th>1990-04-04</th>\n",
              "      <td>0.000000</td>\n",
              "      <td>0.000000</td>\n",
              "      <td>0.000000</td>\n",
              "      <td>0.000000</td>\n",
              "      <td>0.000000</td>\n",
              "      <td>0.000000</td>\n",
              "      <td>0.000000</td>\n",
              "      <td>0</td>\n",
              "      <td>0</td>\n",
              "    </tr>\n",
              "    <tr>\n",
              "      <th>...</th>\n",
              "      <td>...</td>\n",
              "      <td>...</td>\n",
              "      <td>...</td>\n",
              "      <td>...</td>\n",
              "      <td>...</td>\n",
              "      <td>...</td>\n",
              "      <td>...</td>\n",
              "      <td>...</td>\n",
              "      <td>...</td>\n",
              "    </tr>\n",
              "    <tr>\n",
              "      <th>2023-03-09</th>\n",
              "      <td>-0.000568</td>\n",
              "      <td>-0.000220</td>\n",
              "      <td>0.001044</td>\n",
              "      <td>-0.000755</td>\n",
              "      <td>0.000965</td>\n",
              "      <td>-0.000135</td>\n",
              "      <td>0.000090</td>\n",
              "      <td>3</td>\n",
              "      <td>4</td>\n",
              "    </tr>\n",
              "    <tr>\n",
              "      <th>2023-03-10</th>\n",
              "      <td>-0.000490</td>\n",
              "      <td>-0.000014</td>\n",
              "      <td>0.000829</td>\n",
              "      <td>-0.000744</td>\n",
              "      <td>0.000507</td>\n",
              "      <td>0.000191</td>\n",
              "      <td>0.000116</td>\n",
              "      <td>4</td>\n",
              "      <td>3</td>\n",
              "    </tr>\n",
              "    <tr>\n",
              "      <th>2023-03-13</th>\n",
              "      <td>-0.000336</td>\n",
              "      <td>-0.000505</td>\n",
              "      <td>0.001077</td>\n",
              "      <td>0.000072</td>\n",
              "      <td>0.000025</td>\n",
              "      <td>0.000440</td>\n",
              "      <td>-0.000177</td>\n",
              "      <td>4</td>\n",
              "      <td>3</td>\n",
              "    </tr>\n",
              "    <tr>\n",
              "      <th>2023-03-14</th>\n",
              "      <td>-0.000207</td>\n",
              "      <td>-0.002294</td>\n",
              "      <td>0.001490</td>\n",
              "      <td>0.000125</td>\n",
              "      <td>-0.000043</td>\n",
              "      <td>0.000664</td>\n",
              "      <td>0.000029</td>\n",
              "      <td>4</td>\n",
              "      <td>3</td>\n",
              "    </tr>\n",
              "    <tr>\n",
              "      <th>2023-03-15</th>\n",
              "      <td>-0.000096</td>\n",
              "      <td>-0.003665</td>\n",
              "      <td>0.003156</td>\n",
              "      <td>0.000308</td>\n",
              "      <td>0.000242</td>\n",
              "      <td>0.000667</td>\n",
              "      <td>-0.000163</td>\n",
              "      <td>4</td>\n",
              "      <td>3</td>\n",
              "    </tr>\n",
              "  </tbody>\n",
              "</table>\n",
              "<p>8304 rows × 9 columns</p>\n",
              "</div>\n",
              "      <button class=\"colab-df-convert\" onclick=\"convertToInteractive('df-47e820a3-01b9-4e18-8430-62aa204fd25b')\"\n",
              "              title=\"Convert this dataframe to an interactive table.\"\n",
              "              style=\"display:none;\">\n",
              "        \n",
              "  <svg xmlns=\"http://www.w3.org/2000/svg\" height=\"24px\"viewBox=\"0 0 24 24\"\n",
              "       width=\"24px\">\n",
              "    <path d=\"M0 0h24v24H0V0z\" fill=\"none\"/>\n",
              "    <path d=\"M18.56 5.44l.94 2.06.94-2.06 2.06-.94-2.06-.94-.94-2.06-.94 2.06-2.06.94zm-11 1L8.5 8.5l.94-2.06 2.06-.94-2.06-.94L8.5 2.5l-.94 2.06-2.06.94zm10 10l.94 2.06.94-2.06 2.06-.94-2.06-.94-.94-2.06-.94 2.06-2.06.94z\"/><path d=\"M17.41 7.96l-1.37-1.37c-.4-.4-.92-.59-1.43-.59-.52 0-1.04.2-1.43.59L10.3 9.45l-7.72 7.72c-.78.78-.78 2.05 0 2.83L4 21.41c.39.39.9.59 1.41.59.51 0 1.02-.2 1.41-.59l7.78-7.78 2.81-2.81c.8-.78.8-2.07 0-2.86zM5.41 20L4 18.59l7.72-7.72 1.47 1.35L5.41 20z\"/>\n",
              "  </svg>\n",
              "      </button>\n",
              "      \n",
              "  <style>\n",
              "    .colab-df-container {\n",
              "      display:flex;\n",
              "      flex-wrap:wrap;\n",
              "      gap: 12px;\n",
              "    }\n",
              "\n",
              "    .colab-df-convert {\n",
              "      background-color: #E8F0FE;\n",
              "      border: none;\n",
              "      border-radius: 50%;\n",
              "      cursor: pointer;\n",
              "      display: none;\n",
              "      fill: #1967D2;\n",
              "      height: 32px;\n",
              "      padding: 0 0 0 0;\n",
              "      width: 32px;\n",
              "    }\n",
              "\n",
              "    .colab-df-convert:hover {\n",
              "      background-color: #E2EBFA;\n",
              "      box-shadow: 0px 1px 2px rgba(60, 64, 67, 0.3), 0px 1px 3px 1px rgba(60, 64, 67, 0.15);\n",
              "      fill: #174EA6;\n",
              "    }\n",
              "\n",
              "    [theme=dark] .colab-df-convert {\n",
              "      background-color: #3B4455;\n",
              "      fill: #D2E3FC;\n",
              "    }\n",
              "\n",
              "    [theme=dark] .colab-df-convert:hover {\n",
              "      background-color: #434B5C;\n",
              "      box-shadow: 0px 1px 3px 1px rgba(0, 0, 0, 0.15);\n",
              "      filter: drop-shadow(0px 1px 2px rgba(0, 0, 0, 0.3));\n",
              "      fill: #FFFFFF;\n",
              "    }\n",
              "  </style>\n",
              "\n",
              "      <script>\n",
              "        const buttonEl =\n",
              "          document.querySelector('#df-47e820a3-01b9-4e18-8430-62aa204fd25b button.colab-df-convert');\n",
              "        buttonEl.style.display =\n",
              "          google.colab.kernel.accessAllowed ? 'block' : 'none';\n",
              "\n",
              "        async function convertToInteractive(key) {\n",
              "          const element = document.querySelector('#df-47e820a3-01b9-4e18-8430-62aa204fd25b');\n",
              "          const dataTable =\n",
              "            await google.colab.kernel.invokeFunction('convertToInteractive',\n",
              "                                                     [key], {});\n",
              "          if (!dataTable) return;\n",
              "\n",
              "          const docLinkHtml = 'Like what you see? Visit the ' +\n",
              "            '<a target=\"_blank\" href=https://colab.research.google.com/notebooks/data_table.ipynb>data table notebook</a>'\n",
              "            + ' to learn more about interactive tables.';\n",
              "          element.innerHTML = '';\n",
              "          dataTable['output_type'] = 'display_data';\n",
              "          await google.colab.output.renderOutput(dataTable, element);\n",
              "          const docLink = document.createElement('div');\n",
              "          docLink.innerHTML = docLinkHtml;\n",
              "          element.appendChild(docLink);\n",
              "        }\n",
              "      </script>\n",
              "    </div>\n",
              "  </div>\n",
              "  "
            ]
          },
          "metadata": {},
          "execution_count": 67
        }
      ]
    },
    {
      "cell_type": "code",
      "source": [
        "#Calculamos posición final haciendo Bagging:\n",
        "best_pre[\"position\"] = np.nan;\n",
        "\n",
        "best_pre.loc[ best_pre[\"Buy\"] > best_pre[\"Sell\"] ,\"position\"] = 1;\n",
        "best_pre.loc[ best_pre[\"Buy\"] == best_pre[\"Sell\"] ,\"position\"] = 0;\n",
        "best_pre.loc[ best_pre[\"Sell\"] > best_pre[\"Buy\"] ,\"position\"] = -1;\n",
        "\n",
        "#Calculamos y representamos retornos:\n",
        "best_pre[\"strategy\"] = df[\"returns\"] * best_pre[\"position\"].shift(1);\n",
        "\n",
        "best_pre"
      ],
      "metadata": {
        "colab": {
          "base_uri": "https://localhost:8080/",
          "height": 455
        },
        "id": "W0E3G_g_WBwq",
        "outputId": "16629d8e-d9eb-42f5-d317-d2786720b44a"
      },
      "execution_count": null,
      "outputs": [
        {
          "output_type": "execute_result",
          "data": {
            "text/plain": [
              "              RNN_40    RNN_12    RNN_16    RNN_43    RNN_17     RNN_1  \\\n",
              "date                                                                     \n",
              "1990-03-29  0.000000  0.000000  0.000000  0.000000  0.000000  0.000000   \n",
              "1990-03-30  0.000000  0.000000  0.000000  0.000000  0.000000  0.000000   \n",
              "1990-04-02  0.000000  0.000000  0.000000  0.000000  0.000000  0.000000   \n",
              "1990-04-03  0.000000  0.000000  0.000000  0.000000  0.000000  0.000000   \n",
              "1990-04-04  0.000000  0.000000  0.000000  0.000000  0.000000  0.000000   \n",
              "...              ...       ...       ...       ...       ...       ...   \n",
              "2023-03-09 -0.000568 -0.000220  0.001044 -0.000755  0.000965 -0.000135   \n",
              "2023-03-10 -0.000490 -0.000014  0.000829 -0.000744  0.000507  0.000191   \n",
              "2023-03-13 -0.000336 -0.000505  0.001077  0.000072  0.000025  0.000440   \n",
              "2023-03-14 -0.000207 -0.002294  0.001490  0.000125 -0.000043  0.000664   \n",
              "2023-03-15 -0.000096 -0.003665  0.003156  0.000308  0.000242  0.000667   \n",
              "\n",
              "              RNN_81  Buy  Sell  position  strategy  \n",
              "date                                                 \n",
              "1990-03-29  0.000000    0     0       0.0       NaN  \n",
              "1990-03-30  0.000000    0     0       0.0 -0.000000  \n",
              "1990-04-02  0.000000    0     0       0.0 -0.000000  \n",
              "1990-04-03  0.000000    0     0       0.0  0.000000  \n",
              "1990-04-04  0.000000    0     0       0.0 -0.000000  \n",
              "...              ...  ...   ...       ...       ...  \n",
              "2023-03-09  0.000090    3     4      -1.0  0.018459  \n",
              "2023-03-10  0.000116    4     3       1.0  0.014478  \n",
              "2023-03-13 -0.000177    4     3       1.0 -0.001510  \n",
              "2023-03-14  0.000029    4     3       1.0  0.016477  \n",
              "2023-03-15 -0.000163    4     3       1.0 -0.006981  \n",
              "\n",
              "[8304 rows x 11 columns]"
            ],
            "text/html": [
              "\n",
              "  <div id=\"df-28560cfc-254f-4e8d-be74-f869139ab8e4\">\n",
              "    <div class=\"colab-df-container\">\n",
              "      <div>\n",
              "<style scoped>\n",
              "    .dataframe tbody tr th:only-of-type {\n",
              "        vertical-align: middle;\n",
              "    }\n",
              "\n",
              "    .dataframe tbody tr th {\n",
              "        vertical-align: top;\n",
              "    }\n",
              "\n",
              "    .dataframe thead th {\n",
              "        text-align: right;\n",
              "    }\n",
              "</style>\n",
              "<table border=\"1\" class=\"dataframe\">\n",
              "  <thead>\n",
              "    <tr style=\"text-align: right;\">\n",
              "      <th></th>\n",
              "      <th>RNN_40</th>\n",
              "      <th>RNN_12</th>\n",
              "      <th>RNN_16</th>\n",
              "      <th>RNN_43</th>\n",
              "      <th>RNN_17</th>\n",
              "      <th>RNN_1</th>\n",
              "      <th>RNN_81</th>\n",
              "      <th>Buy</th>\n",
              "      <th>Sell</th>\n",
              "      <th>position</th>\n",
              "      <th>strategy</th>\n",
              "    </tr>\n",
              "    <tr>\n",
              "      <th>date</th>\n",
              "      <th></th>\n",
              "      <th></th>\n",
              "      <th></th>\n",
              "      <th></th>\n",
              "      <th></th>\n",
              "      <th></th>\n",
              "      <th></th>\n",
              "      <th></th>\n",
              "      <th></th>\n",
              "      <th></th>\n",
              "      <th></th>\n",
              "    </tr>\n",
              "  </thead>\n",
              "  <tbody>\n",
              "    <tr>\n",
              "      <th>1990-03-29</th>\n",
              "      <td>0.000000</td>\n",
              "      <td>0.000000</td>\n",
              "      <td>0.000000</td>\n",
              "      <td>0.000000</td>\n",
              "      <td>0.000000</td>\n",
              "      <td>0.000000</td>\n",
              "      <td>0.000000</td>\n",
              "      <td>0</td>\n",
              "      <td>0</td>\n",
              "      <td>0.0</td>\n",
              "      <td>NaN</td>\n",
              "    </tr>\n",
              "    <tr>\n",
              "      <th>1990-03-30</th>\n",
              "      <td>0.000000</td>\n",
              "      <td>0.000000</td>\n",
              "      <td>0.000000</td>\n",
              "      <td>0.000000</td>\n",
              "      <td>0.000000</td>\n",
              "      <td>0.000000</td>\n",
              "      <td>0.000000</td>\n",
              "      <td>0</td>\n",
              "      <td>0</td>\n",
              "      <td>0.0</td>\n",
              "      <td>-0.000000</td>\n",
              "    </tr>\n",
              "    <tr>\n",
              "      <th>1990-04-02</th>\n",
              "      <td>0.000000</td>\n",
              "      <td>0.000000</td>\n",
              "      <td>0.000000</td>\n",
              "      <td>0.000000</td>\n",
              "      <td>0.000000</td>\n",
              "      <td>0.000000</td>\n",
              "      <td>0.000000</td>\n",
              "      <td>0</td>\n",
              "      <td>0</td>\n",
              "      <td>0.0</td>\n",
              "      <td>-0.000000</td>\n",
              "    </tr>\n",
              "    <tr>\n",
              "      <th>1990-04-03</th>\n",
              "      <td>0.000000</td>\n",
              "      <td>0.000000</td>\n",
              "      <td>0.000000</td>\n",
              "      <td>0.000000</td>\n",
              "      <td>0.000000</td>\n",
              "      <td>0.000000</td>\n",
              "      <td>0.000000</td>\n",
              "      <td>0</td>\n",
              "      <td>0</td>\n",
              "      <td>0.0</td>\n",
              "      <td>0.000000</td>\n",
              "    </tr>\n",
              "    <tr>\n",
              "      <th>1990-04-04</th>\n",
              "      <td>0.000000</td>\n",
              "      <td>0.000000</td>\n",
              "      <td>0.000000</td>\n",
              "      <td>0.000000</td>\n",
              "      <td>0.000000</td>\n",
              "      <td>0.000000</td>\n",
              "      <td>0.000000</td>\n",
              "      <td>0</td>\n",
              "      <td>0</td>\n",
              "      <td>0.0</td>\n",
              "      <td>-0.000000</td>\n",
              "    </tr>\n",
              "    <tr>\n",
              "      <th>...</th>\n",
              "      <td>...</td>\n",
              "      <td>...</td>\n",
              "      <td>...</td>\n",
              "      <td>...</td>\n",
              "      <td>...</td>\n",
              "      <td>...</td>\n",
              "      <td>...</td>\n",
              "      <td>...</td>\n",
              "      <td>...</td>\n",
              "      <td>...</td>\n",
              "      <td>...</td>\n",
              "    </tr>\n",
              "    <tr>\n",
              "      <th>2023-03-09</th>\n",
              "      <td>-0.000568</td>\n",
              "      <td>-0.000220</td>\n",
              "      <td>0.001044</td>\n",
              "      <td>-0.000755</td>\n",
              "      <td>0.000965</td>\n",
              "      <td>-0.000135</td>\n",
              "      <td>0.000090</td>\n",
              "      <td>3</td>\n",
              "      <td>4</td>\n",
              "      <td>-1.0</td>\n",
              "      <td>0.018459</td>\n",
              "    </tr>\n",
              "    <tr>\n",
              "      <th>2023-03-10</th>\n",
              "      <td>-0.000490</td>\n",
              "      <td>-0.000014</td>\n",
              "      <td>0.000829</td>\n",
              "      <td>-0.000744</td>\n",
              "      <td>0.000507</td>\n",
              "      <td>0.000191</td>\n",
              "      <td>0.000116</td>\n",
              "      <td>4</td>\n",
              "      <td>3</td>\n",
              "      <td>1.0</td>\n",
              "      <td>0.014478</td>\n",
              "    </tr>\n",
              "    <tr>\n",
              "      <th>2023-03-13</th>\n",
              "      <td>-0.000336</td>\n",
              "      <td>-0.000505</td>\n",
              "      <td>0.001077</td>\n",
              "      <td>0.000072</td>\n",
              "      <td>0.000025</td>\n",
              "      <td>0.000440</td>\n",
              "      <td>-0.000177</td>\n",
              "      <td>4</td>\n",
              "      <td>3</td>\n",
              "      <td>1.0</td>\n",
              "      <td>-0.001510</td>\n",
              "    </tr>\n",
              "    <tr>\n",
              "      <th>2023-03-14</th>\n",
              "      <td>-0.000207</td>\n",
              "      <td>-0.002294</td>\n",
              "      <td>0.001490</td>\n",
              "      <td>0.000125</td>\n",
              "      <td>-0.000043</td>\n",
              "      <td>0.000664</td>\n",
              "      <td>0.000029</td>\n",
              "      <td>4</td>\n",
              "      <td>3</td>\n",
              "      <td>1.0</td>\n",
              "      <td>0.016477</td>\n",
              "    </tr>\n",
              "    <tr>\n",
              "      <th>2023-03-15</th>\n",
              "      <td>-0.000096</td>\n",
              "      <td>-0.003665</td>\n",
              "      <td>0.003156</td>\n",
              "      <td>0.000308</td>\n",
              "      <td>0.000242</td>\n",
              "      <td>0.000667</td>\n",
              "      <td>-0.000163</td>\n",
              "      <td>4</td>\n",
              "      <td>3</td>\n",
              "      <td>1.0</td>\n",
              "      <td>-0.006981</td>\n",
              "    </tr>\n",
              "  </tbody>\n",
              "</table>\n",
              "<p>8304 rows × 11 columns</p>\n",
              "</div>\n",
              "      <button class=\"colab-df-convert\" onclick=\"convertToInteractive('df-28560cfc-254f-4e8d-be74-f869139ab8e4')\"\n",
              "              title=\"Convert this dataframe to an interactive table.\"\n",
              "              style=\"display:none;\">\n",
              "        \n",
              "  <svg xmlns=\"http://www.w3.org/2000/svg\" height=\"24px\"viewBox=\"0 0 24 24\"\n",
              "       width=\"24px\">\n",
              "    <path d=\"M0 0h24v24H0V0z\" fill=\"none\"/>\n",
              "    <path d=\"M18.56 5.44l.94 2.06.94-2.06 2.06-.94-2.06-.94-.94-2.06-.94 2.06-2.06.94zm-11 1L8.5 8.5l.94-2.06 2.06-.94-2.06-.94L8.5 2.5l-.94 2.06-2.06.94zm10 10l.94 2.06.94-2.06 2.06-.94-2.06-.94-.94-2.06-.94 2.06-2.06.94z\"/><path d=\"M17.41 7.96l-1.37-1.37c-.4-.4-.92-.59-1.43-.59-.52 0-1.04.2-1.43.59L10.3 9.45l-7.72 7.72c-.78.78-.78 2.05 0 2.83L4 21.41c.39.39.9.59 1.41.59.51 0 1.02-.2 1.41-.59l7.78-7.78 2.81-2.81c.8-.78.8-2.07 0-2.86zM5.41 20L4 18.59l7.72-7.72 1.47 1.35L5.41 20z\"/>\n",
              "  </svg>\n",
              "      </button>\n",
              "      \n",
              "  <style>\n",
              "    .colab-df-container {\n",
              "      display:flex;\n",
              "      flex-wrap:wrap;\n",
              "      gap: 12px;\n",
              "    }\n",
              "\n",
              "    .colab-df-convert {\n",
              "      background-color: #E8F0FE;\n",
              "      border: none;\n",
              "      border-radius: 50%;\n",
              "      cursor: pointer;\n",
              "      display: none;\n",
              "      fill: #1967D2;\n",
              "      height: 32px;\n",
              "      padding: 0 0 0 0;\n",
              "      width: 32px;\n",
              "    }\n",
              "\n",
              "    .colab-df-convert:hover {\n",
              "      background-color: #E2EBFA;\n",
              "      box-shadow: 0px 1px 2px rgba(60, 64, 67, 0.3), 0px 1px 3px 1px rgba(60, 64, 67, 0.15);\n",
              "      fill: #174EA6;\n",
              "    }\n",
              "\n",
              "    [theme=dark] .colab-df-convert {\n",
              "      background-color: #3B4455;\n",
              "      fill: #D2E3FC;\n",
              "    }\n",
              "\n",
              "    [theme=dark] .colab-df-convert:hover {\n",
              "      background-color: #434B5C;\n",
              "      box-shadow: 0px 1px 3px 1px rgba(0, 0, 0, 0.15);\n",
              "      filter: drop-shadow(0px 1px 2px rgba(0, 0, 0, 0.3));\n",
              "      fill: #FFFFFF;\n",
              "    }\n",
              "  </style>\n",
              "\n",
              "      <script>\n",
              "        const buttonEl =\n",
              "          document.querySelector('#df-28560cfc-254f-4e8d-be74-f869139ab8e4 button.colab-df-convert');\n",
              "        buttonEl.style.display =\n",
              "          google.colab.kernel.accessAllowed ? 'block' : 'none';\n",
              "\n",
              "        async function convertToInteractive(key) {\n",
              "          const element = document.querySelector('#df-28560cfc-254f-4e8d-be74-f869139ab8e4');\n",
              "          const dataTable =\n",
              "            await google.colab.kernel.invokeFunction('convertToInteractive',\n",
              "                                                     [key], {});\n",
              "          if (!dataTable) return;\n",
              "\n",
              "          const docLinkHtml = 'Like what you see? Visit the ' +\n",
              "            '<a target=\"_blank\" href=https://colab.research.google.com/notebooks/data_table.ipynb>data table notebook</a>'\n",
              "            + ' to learn more about interactive tables.';\n",
              "          element.innerHTML = '';\n",
              "          dataTable['output_type'] = 'display_data';\n",
              "          await google.colab.output.renderOutput(dataTable, element);\n",
              "          const docLink = document.createElement('div');\n",
              "          docLink.innerHTML = docLinkHtml;\n",
              "          element.appendChild(docLink);\n",
              "        }\n",
              "      </script>\n",
              "    </div>\n",
              "  </div>\n",
              "  "
            ]
          },
          "metadata": {},
          "execution_count": 68
        }
      ]
    },
    {
      "cell_type": "markdown",
      "source": [
        "#Búsqueda del mejor SL en función del ratio de Sharpe"
      ],
      "metadata": {
        "id": "RsP7oQSOwqrr"
      }
    },
    {
      "cell_type": "code",
      "source": [
        "def find_best_sl(sl):\n",
        "  \n",
        "  sl = sl/100\n",
        "  pf = pd.concat((df[\"low_returns\"], best_pre[\"strategy\"]), axis = 1).dropna()\n",
        "  pf.columns = [\"low\", \"Return\"]\n",
        "  pf[\"Return\"] = np.where(pf[\"low\"].values < -sl, -sl, pf[\"Return\"].values)\n",
        "  pf[\"Return\"] = np.where(pf[\"Return\"].values < -sl, -sl, pf[\"Return\"].values)\n",
        "\n",
        "  return np.sqrt(252)*pf[\"Return\"].mean()/pf[\"Return\"].std()\n",
        "\n",
        "df_sl = pd.DataFrame(\n",
        "    [find_best_sl(sl) for sl in np.linspace(1,10,50)],\n",
        "    index = np.linspace(1,1.5,50),\n",
        "    columns = [\"Sharpe\"]\n",
        ")\n",
        "\n",
        "best_sl = df_sl[\"Sharpe\"].idxmax()\n",
        "print(f\"Best SL : {best_sl}\")\n",
        "\n",
        "sl = best_sl/100\n",
        "pf = pd.concat((df[\"low_returns\"], best_pre[\"strategy\"]), axis = 1).dropna()\n",
        "pf.columns = [\"low\", \"Return\"]\n",
        "pf[\"Return\"] = np.where(pf[\"low\"].values < -sl, -sl, pf[\"Return\"].values)\n",
        "pf[\"Return\"] = np.where(pf[\"Return\"].values < -sl, -sl, pf[\"Return\"].values)\n",
        "pf[\"Return\"].cumsum().plot();\n",
        "plt.ylabel(\"Cum return\");\n",
        "plt.title(\"Cumulative return\")\n",
        "plt.show()"
      ],
      "metadata": {
        "colab": {
          "base_uri": "https://localhost:8080/",
          "height": 503
        },
        "id": "L-IYR4ECS2C4",
        "outputId": "59f8c754-0e22-418c-ac1f-10e60a0c614a"
      },
      "execution_count": null,
      "outputs": [
        {
          "output_type": "error",
          "ename": "KeyError",
          "evalue": "ignored",
          "traceback": [
            "\u001b[0;31m---------------------------------------------------------------------------\u001b[0m",
            "\u001b[0;31mKeyError\u001b[0m                                  Traceback (most recent call last)",
            "\u001b[0;32m/usr/local/lib/python3.9/dist-packages/pandas/core/indexes/base.py\u001b[0m in \u001b[0;36mget_loc\u001b[0;34m(self, key, method, tolerance)\u001b[0m\n\u001b[1;32m   3628\u001b[0m             \u001b[0;32mtry\u001b[0m\u001b[0;34m:\u001b[0m\u001b[0;34m\u001b[0m\u001b[0;34m\u001b[0m\u001b[0m\n\u001b[0;32m-> 3629\u001b[0;31m                 \u001b[0;32mreturn\u001b[0m \u001b[0mself\u001b[0m\u001b[0;34m.\u001b[0m\u001b[0m_engine\u001b[0m\u001b[0;34m.\u001b[0m\u001b[0mget_loc\u001b[0m\u001b[0;34m(\u001b[0m\u001b[0mcasted_key\u001b[0m\u001b[0;34m)\u001b[0m\u001b[0;34m\u001b[0m\u001b[0;34m\u001b[0m\u001b[0m\n\u001b[0m\u001b[1;32m   3630\u001b[0m             \u001b[0;32mexcept\u001b[0m \u001b[0mKeyError\u001b[0m \u001b[0;32mas\u001b[0m \u001b[0merr\u001b[0m\u001b[0;34m:\u001b[0m\u001b[0;34m\u001b[0m\u001b[0;34m\u001b[0m\u001b[0m\n",
            "\u001b[0;32m/usr/local/lib/python3.9/dist-packages/pandas/_libs/index.pyx\u001b[0m in \u001b[0;36mpandas._libs.index.IndexEngine.get_loc\u001b[0;34m()\u001b[0m\n",
            "\u001b[0;32m/usr/local/lib/python3.9/dist-packages/pandas/_libs/index.pyx\u001b[0m in \u001b[0;36mpandas._libs.index.IndexEngine.get_loc\u001b[0;34m()\u001b[0m\n",
            "\u001b[0;32mpandas/_libs/hashtable_class_helper.pxi\u001b[0m in \u001b[0;36mpandas._libs.hashtable.PyObjectHashTable.get_item\u001b[0;34m()\u001b[0m\n",
            "\u001b[0;32mpandas/_libs/hashtable_class_helper.pxi\u001b[0m in \u001b[0;36mpandas._libs.hashtable.PyObjectHashTable.get_item\u001b[0;34m()\u001b[0m\n",
            "\u001b[0;31mKeyError\u001b[0m: 'low_returns'",
            "\nThe above exception was the direct cause of the following exception:\n",
            "\u001b[0;31mKeyError\u001b[0m                                  Traceback (most recent call last)",
            "\u001b[0;32m<ipython-input-11-b3d1c39fb425>\u001b[0m in \u001b[0;36m<module>\u001b[0;34m\u001b[0m\n\u001b[1;32m     10\u001b[0m \u001b[0;34m\u001b[0m\u001b[0m\n\u001b[1;32m     11\u001b[0m df_sl = pd.DataFrame(\n\u001b[0;32m---> 12\u001b[0;31m     \u001b[0;34m[\u001b[0m\u001b[0mfind_best_sl\u001b[0m\u001b[0;34m(\u001b[0m\u001b[0msl\u001b[0m\u001b[0;34m)\u001b[0m \u001b[0;32mfor\u001b[0m \u001b[0msl\u001b[0m \u001b[0;32min\u001b[0m \u001b[0mnp\u001b[0m\u001b[0;34m.\u001b[0m\u001b[0mlinspace\u001b[0m\u001b[0;34m(\u001b[0m\u001b[0;36m1\u001b[0m\u001b[0;34m,\u001b[0m\u001b[0;36m10\u001b[0m\u001b[0;34m,\u001b[0m\u001b[0;36m50\u001b[0m\u001b[0;34m)\u001b[0m\u001b[0;34m]\u001b[0m\u001b[0;34m,\u001b[0m\u001b[0;34m\u001b[0m\u001b[0;34m\u001b[0m\u001b[0m\n\u001b[0m\u001b[1;32m     13\u001b[0m     \u001b[0mindex\u001b[0m \u001b[0;34m=\u001b[0m \u001b[0mnp\u001b[0m\u001b[0;34m.\u001b[0m\u001b[0mlinspace\u001b[0m\u001b[0;34m(\u001b[0m\u001b[0;36m1\u001b[0m\u001b[0;34m,\u001b[0m\u001b[0;36m1.5\u001b[0m\u001b[0;34m,\u001b[0m\u001b[0;36m50\u001b[0m\u001b[0;34m)\u001b[0m\u001b[0;34m,\u001b[0m\u001b[0;34m\u001b[0m\u001b[0;34m\u001b[0m\u001b[0m\n\u001b[1;32m     14\u001b[0m     \u001b[0mcolumns\u001b[0m \u001b[0;34m=\u001b[0m \u001b[0;34m[\u001b[0m\u001b[0;34m\"Sharpe\"\u001b[0m\u001b[0;34m]\u001b[0m\u001b[0;34m\u001b[0m\u001b[0;34m\u001b[0m\u001b[0m\n",
            "\u001b[0;32m<ipython-input-11-b3d1c39fb425>\u001b[0m in \u001b[0;36m<listcomp>\u001b[0;34m(.0)\u001b[0m\n\u001b[1;32m     10\u001b[0m \u001b[0;34m\u001b[0m\u001b[0m\n\u001b[1;32m     11\u001b[0m df_sl = pd.DataFrame(\n\u001b[0;32m---> 12\u001b[0;31m     \u001b[0;34m[\u001b[0m\u001b[0mfind_best_sl\u001b[0m\u001b[0;34m(\u001b[0m\u001b[0msl\u001b[0m\u001b[0;34m)\u001b[0m \u001b[0;32mfor\u001b[0m \u001b[0msl\u001b[0m \u001b[0;32min\u001b[0m \u001b[0mnp\u001b[0m\u001b[0;34m.\u001b[0m\u001b[0mlinspace\u001b[0m\u001b[0;34m(\u001b[0m\u001b[0;36m1\u001b[0m\u001b[0;34m,\u001b[0m\u001b[0;36m10\u001b[0m\u001b[0;34m,\u001b[0m\u001b[0;36m50\u001b[0m\u001b[0;34m)\u001b[0m\u001b[0;34m]\u001b[0m\u001b[0;34m,\u001b[0m\u001b[0;34m\u001b[0m\u001b[0;34m\u001b[0m\u001b[0m\n\u001b[0m\u001b[1;32m     13\u001b[0m     \u001b[0mindex\u001b[0m \u001b[0;34m=\u001b[0m \u001b[0mnp\u001b[0m\u001b[0;34m.\u001b[0m\u001b[0mlinspace\u001b[0m\u001b[0;34m(\u001b[0m\u001b[0;36m1\u001b[0m\u001b[0;34m,\u001b[0m\u001b[0;36m1.5\u001b[0m\u001b[0;34m,\u001b[0m\u001b[0;36m50\u001b[0m\u001b[0;34m)\u001b[0m\u001b[0;34m,\u001b[0m\u001b[0;34m\u001b[0m\u001b[0;34m\u001b[0m\u001b[0m\n\u001b[1;32m     14\u001b[0m     \u001b[0mcolumns\u001b[0m \u001b[0;34m=\u001b[0m \u001b[0;34m[\u001b[0m\u001b[0;34m\"Sharpe\"\u001b[0m\u001b[0;34m]\u001b[0m\u001b[0;34m\u001b[0m\u001b[0;34m\u001b[0m\u001b[0m\n",
            "\u001b[0;32m<ipython-input-11-b3d1c39fb425>\u001b[0m in \u001b[0;36mfind_best_sl\u001b[0;34m(sl)\u001b[0m\n\u001b[1;32m      2\u001b[0m \u001b[0;34m\u001b[0m\u001b[0m\n\u001b[1;32m      3\u001b[0m   \u001b[0msl\u001b[0m \u001b[0;34m=\u001b[0m \u001b[0msl\u001b[0m\u001b[0;34m/\u001b[0m\u001b[0;36m100\u001b[0m\u001b[0;34m\u001b[0m\u001b[0;34m\u001b[0m\u001b[0m\n\u001b[0;32m----> 4\u001b[0;31m   \u001b[0mpf\u001b[0m \u001b[0;34m=\u001b[0m \u001b[0mpd\u001b[0m\u001b[0;34m.\u001b[0m\u001b[0mconcat\u001b[0m\u001b[0;34m(\u001b[0m\u001b[0;34m(\u001b[0m\u001b[0mdf\u001b[0m\u001b[0;34m[\u001b[0m\u001b[0;34m\"low_returns\"\u001b[0m\u001b[0;34m]\u001b[0m\u001b[0;34m,\u001b[0m \u001b[0mbest_pre\u001b[0m\u001b[0;34m[\u001b[0m\u001b[0;34m\"strategy\"\u001b[0m\u001b[0;34m]\u001b[0m\u001b[0;34m)\u001b[0m\u001b[0;34m,\u001b[0m \u001b[0maxis\u001b[0m \u001b[0;34m=\u001b[0m \u001b[0;36m1\u001b[0m\u001b[0;34m)\u001b[0m\u001b[0;34m.\u001b[0m\u001b[0mdropna\u001b[0m\u001b[0;34m(\u001b[0m\u001b[0;34m)\u001b[0m\u001b[0;34m\u001b[0m\u001b[0;34m\u001b[0m\u001b[0m\n\u001b[0m\u001b[1;32m      5\u001b[0m   \u001b[0mpf\u001b[0m\u001b[0;34m.\u001b[0m\u001b[0mcolumns\u001b[0m \u001b[0;34m=\u001b[0m \u001b[0;34m[\u001b[0m\u001b[0;34m\"low\"\u001b[0m\u001b[0;34m,\u001b[0m \u001b[0;34m\"Return\"\u001b[0m\u001b[0;34m]\u001b[0m\u001b[0;34m\u001b[0m\u001b[0;34m\u001b[0m\u001b[0m\n\u001b[1;32m      6\u001b[0m   \u001b[0mpf\u001b[0m\u001b[0;34m[\u001b[0m\u001b[0;34m\"Return\"\u001b[0m\u001b[0;34m]\u001b[0m \u001b[0;34m=\u001b[0m \u001b[0mnp\u001b[0m\u001b[0;34m.\u001b[0m\u001b[0mwhere\u001b[0m\u001b[0;34m(\u001b[0m\u001b[0mpf\u001b[0m\u001b[0;34m[\u001b[0m\u001b[0;34m\"low\"\u001b[0m\u001b[0;34m]\u001b[0m\u001b[0;34m.\u001b[0m\u001b[0mvalues\u001b[0m \u001b[0;34m<\u001b[0m \u001b[0;34m-\u001b[0m\u001b[0msl\u001b[0m\u001b[0;34m,\u001b[0m \u001b[0;34m-\u001b[0m\u001b[0msl\u001b[0m\u001b[0;34m,\u001b[0m \u001b[0mpf\u001b[0m\u001b[0;34m[\u001b[0m\u001b[0;34m\"Return\"\u001b[0m\u001b[0;34m]\u001b[0m\u001b[0;34m.\u001b[0m\u001b[0mvalues\u001b[0m\u001b[0;34m)\u001b[0m\u001b[0;34m\u001b[0m\u001b[0;34m\u001b[0m\u001b[0m\n",
            "\u001b[0;32m/usr/local/lib/python3.9/dist-packages/pandas/core/frame.py\u001b[0m in \u001b[0;36m__getitem__\u001b[0;34m(self, key)\u001b[0m\n\u001b[1;32m   3503\u001b[0m             \u001b[0;32mif\u001b[0m \u001b[0mself\u001b[0m\u001b[0;34m.\u001b[0m\u001b[0mcolumns\u001b[0m\u001b[0;34m.\u001b[0m\u001b[0mnlevels\u001b[0m \u001b[0;34m>\u001b[0m \u001b[0;36m1\u001b[0m\u001b[0;34m:\u001b[0m\u001b[0;34m\u001b[0m\u001b[0;34m\u001b[0m\u001b[0m\n\u001b[1;32m   3504\u001b[0m                 \u001b[0;32mreturn\u001b[0m \u001b[0mself\u001b[0m\u001b[0;34m.\u001b[0m\u001b[0m_getitem_multilevel\u001b[0m\u001b[0;34m(\u001b[0m\u001b[0mkey\u001b[0m\u001b[0;34m)\u001b[0m\u001b[0;34m\u001b[0m\u001b[0;34m\u001b[0m\u001b[0m\n\u001b[0;32m-> 3505\u001b[0;31m             \u001b[0mindexer\u001b[0m \u001b[0;34m=\u001b[0m \u001b[0mself\u001b[0m\u001b[0;34m.\u001b[0m\u001b[0mcolumns\u001b[0m\u001b[0;34m.\u001b[0m\u001b[0mget_loc\u001b[0m\u001b[0;34m(\u001b[0m\u001b[0mkey\u001b[0m\u001b[0;34m)\u001b[0m\u001b[0;34m\u001b[0m\u001b[0;34m\u001b[0m\u001b[0m\n\u001b[0m\u001b[1;32m   3506\u001b[0m             \u001b[0;32mif\u001b[0m \u001b[0mis_integer\u001b[0m\u001b[0;34m(\u001b[0m\u001b[0mindexer\u001b[0m\u001b[0;34m)\u001b[0m\u001b[0;34m:\u001b[0m\u001b[0;34m\u001b[0m\u001b[0;34m\u001b[0m\u001b[0m\n\u001b[1;32m   3507\u001b[0m                 \u001b[0mindexer\u001b[0m \u001b[0;34m=\u001b[0m \u001b[0;34m[\u001b[0m\u001b[0mindexer\u001b[0m\u001b[0;34m]\u001b[0m\u001b[0;34m\u001b[0m\u001b[0;34m\u001b[0m\u001b[0m\n",
            "\u001b[0;32m/usr/local/lib/python3.9/dist-packages/pandas/core/indexes/base.py\u001b[0m in \u001b[0;36mget_loc\u001b[0;34m(self, key, method, tolerance)\u001b[0m\n\u001b[1;32m   3629\u001b[0m                 \u001b[0;32mreturn\u001b[0m \u001b[0mself\u001b[0m\u001b[0;34m.\u001b[0m\u001b[0m_engine\u001b[0m\u001b[0;34m.\u001b[0m\u001b[0mget_loc\u001b[0m\u001b[0;34m(\u001b[0m\u001b[0mcasted_key\u001b[0m\u001b[0;34m)\u001b[0m\u001b[0;34m\u001b[0m\u001b[0;34m\u001b[0m\u001b[0m\n\u001b[1;32m   3630\u001b[0m             \u001b[0;32mexcept\u001b[0m \u001b[0mKeyError\u001b[0m \u001b[0;32mas\u001b[0m \u001b[0merr\u001b[0m\u001b[0;34m:\u001b[0m\u001b[0;34m\u001b[0m\u001b[0;34m\u001b[0m\u001b[0m\n\u001b[0;32m-> 3631\u001b[0;31m                 \u001b[0;32mraise\u001b[0m \u001b[0mKeyError\u001b[0m\u001b[0;34m(\u001b[0m\u001b[0mkey\u001b[0m\u001b[0;34m)\u001b[0m \u001b[0;32mfrom\u001b[0m \u001b[0merr\u001b[0m\u001b[0;34m\u001b[0m\u001b[0;34m\u001b[0m\u001b[0m\n\u001b[0m\u001b[1;32m   3632\u001b[0m             \u001b[0;32mexcept\u001b[0m \u001b[0mTypeError\u001b[0m\u001b[0;34m:\u001b[0m\u001b[0;34m\u001b[0m\u001b[0;34m\u001b[0m\u001b[0m\n\u001b[1;32m   3633\u001b[0m                 \u001b[0;31m# If we have a listlike key, _check_indexing_error will raise\u001b[0m\u001b[0;34m\u001b[0m\u001b[0;34m\u001b[0m\u001b[0m\n",
            "\u001b[0;31mKeyError\u001b[0m: 'low_returns'"
          ]
        }
      ]
    },
    {
      "cell_type": "markdown",
      "source": [
        "# Metrics"
      ],
      "metadata": {
        "id": "5cD85nYRw2JX"
      }
    },
    {
      "cell_type": "code",
      "source": [
        "#Graph cum return\n",
        "best_pre[\"strategy\"].cumsum().plot();\n",
        "plt.ylabel(\"Cum return\");\n",
        "plt.title(\"Cumulative return\")\n",
        "plt.show()\n",
        "\n",
        "#Esperanza matemática:\n",
        "print(f\"Esperanza matemática del retorno diario del modelo Híbrido: {round(best_pre['strategy'].mean()*100, 4)} % \\n\");\n",
        "\n",
        "loss = best_pre[\"strategy\"].loc[ best_pre['strategy'] < 0 ].mean()\n",
        "profit = best_pre[\"strategy\"].loc[ best_pre['strategy'] > 0 ].mean()\n",
        "prob_succ = len(best_pre.loc[ best_pre['strategy'] >= 0 ])/len(best_pre)\n",
        "final_return = best_pre[\"strategy\"].cumsum().iloc[-1]\n",
        "max_loss = best_pre[\"strategy\"].min()*100\n",
        "max_profit = best_pre[\"strategy\"].max()*100\n",
        "date_max_loss = best_pre[\"strategy\"].idxmin()\n",
        "date_max_profit = best_pre[\"strategy\"].idxmax()\n",
        "\n",
        "#Calculamos el nº max de días seguidos en negativo:\n",
        "\n",
        "# Crear una columna que indique si el rendimiento es negativo\n",
        "best_pre['Negativo'] = best_pre['strategy'] < 0\n",
        "\n",
        "# Crear una columna que indique los grupos de días seguidos con rendimiento negativo\n",
        "best_pre['Grupo'] = (best_pre['Negativo'] != best_pre['Negativo'].shift()).cumsum()\n",
        "\n",
        "# Obtener el número de días seguidos con rendimiento negativo para cada grupo\n",
        "max_loss_days = best_pre[best_pre['Negativo']]['Grupo'].value_counts().max()\n",
        "\n",
        "print(f\"Pérdida media cuando pierde: {round(loss*100,2)} %\")\n",
        "print(f\"Ganancia media cuando gana: {round(profit*100,2)} % \\n\")\n",
        "\n",
        "print(f\"Probabilidad de acierto: {round(prob_succ*100,2)} %\")\n",
        "print(f\"Probabilidad de fallo: {round(100-prob_succ*100,2)} %\\n\")\n",
        "\n",
        "print(f\"Rentabilidad Final: {round(final_return*100,2)} %\")\n",
        "print(f\"Ratio riesgo-beneficio: {round(profit/abs(loss),2)}\\n\")\n",
        "\n",
        "print(f\"Máxima pérdida en un día: {round(max_loss,2)} % => {date_max_loss}\")\n",
        "print(f\"Máxima ganancia en un día: {round(max_profit,2)} % => {date_max_profit} \\n\")\n",
        "\n",
        "print(f\"Nº máximo de días en negativo: {max_loss_days}\")\n",
        "print(f\"Pérdida media acumulada en {max_loss_days} días: {round(max_loss_days*loss*100, 2)} % \")"
      ],
      "metadata": {
        "colab": {
          "base_uri": "https://localhost:8080/",
          "height": 634
        },
        "id": "jmtaoVBkbX4r",
        "outputId": "f12b183c-5bff-446c-cdbc-83c45db4ecde"
      },
      "execution_count": null,
      "outputs": [
        {
          "output_type": "display_data",
          "data": {
            "text/plain": [
              "<Figure size 576x396 with 1 Axes>"
            ],
            "image/png": "[encoded data removed]"
          },
          "metadata": {}
        },
        {
          "output_type": "stream",
          "name": "stdout",
          "text": [
            "Esperanza matemática del retorno diario del modelo Híbrido: 0.0943 % \n",
            "\n",
            "Pérdida media cuando pierde: -0.74 %\n",
            "Ganancia media cuando gana: 0.8 % \n",
            "\n",
            "Probabilidad de acierto: 54.64 %\n",
            "Probabilidad de fallo: 45.36 %\n",
            "\n",
            "Rentabilidad Final: 782.87 %\n",
            "Ratio riesgo-beneficio: 1.07\n",
            "\n",
            "Máxima pérdida en un día: -9.29 % => 2020-03-13 00:00:00\n",
            "Máxima ganancia en un día: 11.98 % => 2020-03-16 00:00:00 \n",
            "\n",
            "Nº máximo de días en negativo: 8\n",
            "Pérdida media acumulada en 8 días: -5.93 % \n"
          ]
        }
      ]
    },
    {
      "cell_type": "markdown",
      "source": [
        "#Backtesting Vectorizado"
      ],
      "metadata": {
        "id": "ryC_6C5oHPU8"
      }
    },
    {
      "cell_type": "markdown",
      "source": [
        "Ratio de Sortino anualizado"
      ],
      "metadata": {
        "id": "7e-yjwUR7Zxc"
      }
    },
    {
      "cell_type": "markdown",
      "source": [
        "Mide el valor esperado de retorno por unidad de riesgo (volatilidad de las pérdidas).\n",
        "\n",
        "<br>\n",
        "<p align=\"center\">\n",
        "$Sortino = \\frac{\\mu }{\\sigma_{down}}$\n",
        "<p> <br>\n",
        "\n",
        "\n",
        "*   Sortino < 0 => No rentable, beneficio negativo.\n",
        "*   0 < Sortino < 1 => Rentable pero el riesgo es mayor que el beneficio\n",
        "*   Sortino > 1 => Muy rentable, el beneficio es mayor que el riesgo.\n",
        "\n"
      ],
      "metadata": {
        "id": "SEeRJaWuIgvj"
      }
    },
    {
      "cell_type": "code",
      "source": [
        "#Sortino's variables\n",
        "mean = best_pre['strategy'].mean();\n",
        "volatility = best_pre['strategy'].loc[best_pre['strategy'] < 0].std();\n",
        "\n",
        "sortino = np.sqrt(256)*mean/volatility;\n",
        "print(f\"Ratio de Sortino: {sortino}\")"
      ],
      "metadata": {
        "id": "8Pghq9dS9dVk",
        "colab": {
          "base_uri": "https://localhost:8080/"
        },
        "outputId": "b10a3179-f364-468c-f4df-af6bbc7e187d"
      },
      "execution_count": null,
      "outputs": [
        {
          "output_type": "stream",
          "name": "stdout",
          "text": [
            "Ratio de Sortino: 1.8713698051101024\n"
          ]
        }
      ]
    },
    {
      "cell_type": "markdown",
      "source": [
        "BETA\n",
        "\n",
        "El Beta se utiliza para medir la sensibilidad de un activo financiero (como una acción) con respecto a los movimientos del mercado en su conjunto. Es decir, mide la volatilidad del activo en relación con el mercado en general.\n",
        "\n",
        "<br>\n",
        "\n",
        "<p align=\"center\">\n",
        "$Beta = \\frac{Cov(r_{M},r_{PF}) }{Var(r_{M})}$\n",
        "<p> <br>\n",
        "\n",
        "Si el Beta de un activo es mayor que 1, significa que el activo es más volátil que el mercado. Por ejemplo, si el mercado sube un 1%, un activo con un Beta de 1.5 debería subir un 1.5%. Si el Beta de un activo es menor que 1, significa que el activo es menos volátil que el mercado. Por ejemplo, si el mercado sube un 1%, un activo con un Beta de 0.5 debería subir solo un 0.5%."
      ],
      "metadata": {
        "id": "q9NyFThTNTYj"
      }
    },
    {
      "cell_type": "code",
      "source": [
        "import yfinance as yf;\n",
        "\n",
        "#Extraemos data del SP500. Retornos diarios:\n",
        "SP = yf.download(\"^GSPC\")[\"Close\"].pct_change(1);\n",
        "SP.name = \"sp500\";\n",
        "\n",
        "#Concatenamos los retornos de nuestra estrategia con los del SP500\n",
        "#para calcular la covarianza:\n",
        "val = pd.concat((best_pre[\"strategy\"], SP), axis = 1).dropna();\n",
        "val"
      ],
      "metadata": {
        "id": "JCe1_m_WNi4z",
        "colab": {
          "base_uri": "https://localhost:8080/",
          "height": 505
        },
        "outputId": "9c6e47f4-845f-4cc7-8f93-fa133de57716"
      },
      "execution_count": null,
      "outputs": [
        {
          "output_type": "stream",
          "name": "stdout",
          "text": [
            "\r[*********************100%***********************]  1 of 1 completed\n"
          ]
        },
        {
          "output_type": "execute_result",
          "data": {
            "text/plain": [
              "            strategy     sp500\n",
              "1990-03-30 -0.000000 -0.002494\n",
              "1990-04-02 -0.000000 -0.003648\n",
              "1990-04-03  0.000000  0.014585\n",
              "1990-04-04 -0.000000 -0.007421\n",
              "1990-04-05 -0.000000 -0.001055\n",
              "...              ...       ...\n",
              "2023-03-09  0.018459 -0.018459\n",
              "2023-03-10  0.014478 -0.014478\n",
              "2023-03-13 -0.001510 -0.001510\n",
              "2023-03-14  0.016477  0.016477\n",
              "2023-03-15 -0.006981 -0.006981\n",
              "\n",
              "[8303 rows x 2 columns]"
            ],
            "text/html": [
              "\n",
              "  <div id=\"df-3dde104e-abfd-4c6a-9f92-4e25a95ffd70\">\n",
              "    <div class=\"colab-df-container\">\n",
              "      <div>\n",
              "<style scoped>\n",
              "    .dataframe tbody tr th:only-of-type {\n",
              "        vertical-align: middle;\n",
              "    }\n",
              "\n",
              "    .dataframe tbody tr th {\n",
              "        vertical-align: top;\n",
              "    }\n",
              "\n",
              "    .dataframe thead th {\n",
              "        text-align: right;\n",
              "    }\n",
              "</style>\n",
              "<table border=\"1\" class=\"dataframe\">\n",
              "  <thead>\n",
              "    <tr style=\"text-align: right;\">\n",
              "      <th></th>\n",
              "      <th>strategy</th>\n",
              "      <th>sp500</th>\n",
              "    </tr>\n",
              "  </thead>\n",
              "  <tbody>\n",
              "    <tr>\n",
              "      <th>1990-03-30</th>\n",
              "      <td>-0.000000</td>\n",
              "      <td>-0.002494</td>\n",
              "    </tr>\n",
              "    <tr>\n",
              "      <th>1990-04-02</th>\n",
              "      <td>-0.000000</td>\n",
              "      <td>-0.003648</td>\n",
              "    </tr>\n",
              "    <tr>\n",
              "      <th>1990-04-03</th>\n",
              "      <td>0.000000</td>\n",
              "      <td>0.014585</td>\n",
              "    </tr>\n",
              "    <tr>\n",
              "      <th>1990-04-04</th>\n",
              "      <td>-0.000000</td>\n",
              "      <td>-0.007421</td>\n",
              "    </tr>\n",
              "    <tr>\n",
              "      <th>1990-04-05</th>\n",
              "      <td>-0.000000</td>\n",
              "      <td>-0.001055</td>\n",
              "    </tr>\n",
              "    <tr>\n",
              "      <th>...</th>\n",
              "      <td>...</td>\n",
              "      <td>...</td>\n",
              "    </tr>\n",
              "    <tr>\n",
              "      <th>2023-03-09</th>\n",
              "      <td>0.018459</td>\n",
              "      <td>-0.018459</td>\n",
              "    </tr>\n",
              "    <tr>\n",
              "      <th>2023-03-10</th>\n",
              "      <td>0.014478</td>\n",
              "      <td>-0.014478</td>\n",
              "    </tr>\n",
              "    <tr>\n",
              "      <th>2023-03-13</th>\n",
              "      <td>-0.001510</td>\n",
              "      <td>-0.001510</td>\n",
              "    </tr>\n",
              "    <tr>\n",
              "      <th>2023-03-14</th>\n",
              "      <td>0.016477</td>\n",
              "      <td>0.016477</td>\n",
              "    </tr>\n",
              "    <tr>\n",
              "      <th>2023-03-15</th>\n",
              "      <td>-0.006981</td>\n",
              "      <td>-0.006981</td>\n",
              "    </tr>\n",
              "  </tbody>\n",
              "</table>\n",
              "<p>8303 rows × 2 columns</p>\n",
              "</div>\n",
              "      <button class=\"colab-df-convert\" onclick=\"convertToInteractive('df-3dde104e-abfd-4c6a-9f92-4e25a95ffd70')\"\n",
              "              title=\"Convert this dataframe to an interactive table.\"\n",
              "              style=\"display:none;\">\n",
              "        \n",
              "  <svg xmlns=\"http://www.w3.org/2000/svg\" height=\"24px\"viewBox=\"0 0 24 24\"\n",
              "       width=\"24px\">\n",
              "    <path d=\"M0 0h24v24H0V0z\" fill=\"none\"/>\n",
              "    <path d=\"M18.56 5.44l.94 2.06.94-2.06 2.06-.94-2.06-.94-.94-2.06-.94 2.06-2.06.94zm-11 1L8.5 8.5l.94-2.06 2.06-.94-2.06-.94L8.5 2.5l-.94 2.06-2.06.94zm10 10l.94 2.06.94-2.06 2.06-.94-2.06-.94-.94-2.06-.94 2.06-2.06.94z\"/><path d=\"M17.41 7.96l-1.37-1.37c-.4-.4-.92-.59-1.43-.59-.52 0-1.04.2-1.43.59L10.3 9.45l-7.72 7.72c-.78.78-.78 2.05 0 2.83L4 21.41c.39.39.9.59 1.41.59.51 0 1.02-.2 1.41-.59l7.78-7.78 2.81-2.81c.8-.78.8-2.07 0-2.86zM5.41 20L4 18.59l7.72-7.72 1.47 1.35L5.41 20z\"/>\n",
              "  </svg>\n",
              "      </button>\n",
              "      \n",
              "  <style>\n",
              "    .colab-df-container {\n",
              "      display:flex;\n",
              "      flex-wrap:wrap;\n",
              "      gap: 12px;\n",
              "    }\n",
              "\n",
              "    .colab-df-convert {\n",
              "      background-color: #E8F0FE;\n",
              "      border: none;\n",
              "      border-radius: 50%;\n",
              "      cursor: pointer;\n",
              "      display: none;\n",
              "      fill: #1967D2;\n",
              "      height: 32px;\n",
              "      padding: 0 0 0 0;\n",
              "      width: 32px;\n",
              "    }\n",
              "\n",
              "    .colab-df-convert:hover {\n",
              "      background-color: #E2EBFA;\n",
              "      box-shadow: 0px 1px 2px rgba(60, 64, 67, 0.3), 0px 1px 3px 1px rgba(60, 64, 67, 0.15);\n",
              "      fill: #174EA6;\n",
              "    }\n",
              "\n",
              "    [theme=dark] .colab-df-convert {\n",
              "      background-color: #3B4455;\n",
              "      fill: #D2E3FC;\n",
              "    }\n",
              "\n",
              "    [theme=dark] .colab-df-convert:hover {\n",
              "      background-color: #434B5C;\n",
              "      box-shadow: 0px 1px 3px 1px rgba(0, 0, 0, 0.15);\n",
              "      filter: drop-shadow(0px 1px 2px rgba(0, 0, 0, 0.3));\n",
              "      fill: #FFFFFF;\n",
              "    }\n",
              "  </style>\n",
              "\n",
              "      <script>\n",
              "        const buttonEl =\n",
              "          document.querySelector('#df-3dde104e-abfd-4c6a-9f92-4e25a95ffd70 button.colab-df-convert');\n",
              "        buttonEl.style.display =\n",
              "          google.colab.kernel.accessAllowed ? 'block' : 'none';\n",
              "\n",
              "        async function convertToInteractive(key) {\n",
              "          const element = document.querySelector('#df-3dde104e-abfd-4c6a-9f92-4e25a95ffd70');\n",
              "          const dataTable =\n",
              "            await google.colab.kernel.invokeFunction('convertToInteractive',\n",
              "                                                     [key], {});\n",
              "          if (!dataTable) return;\n",
              "\n",
              "          const docLinkHtml = 'Like what you see? Visit the ' +\n",
              "            '<a target=\"_blank\" href=https://colab.research.google.com/notebooks/data_table.ipynb>data table notebook</a>'\n",
              "            + ' to learn more about interactive tables.';\n",
              "          element.innerHTML = '';\n",
              "          dataTable['output_type'] = 'display_data';\n",
              "          await google.colab.output.renderOutput(dataTable, element);\n",
              "          const docLink = document.createElement('div');\n",
              "          docLink.innerHTML = docLinkHtml;\n",
              "          element.appendChild(docLink);\n",
              "        }\n",
              "      </script>\n",
              "    </div>\n",
              "  </div>\n",
              "  "
            ]
          },
          "metadata": {},
          "execution_count": 15
        }
      ]
    },
    {
      "cell_type": "code",
      "source": [
        "#Matriz de covarianza\n",
        "cov_var_matrix = np.cov(val.values, rowvar=False);\n",
        "cov_var_matrix"
      ],
      "metadata": {
        "colab": {
          "base_uri": "https://localhost:8080/"
        },
        "id": "aePNykDOQUpL",
        "outputId": "0175f672-3c0e-4d10-89c2-be85fe6a730d"
      },
      "execution_count": null,
      "outputs": [
        {
          "output_type": "execute_result",
          "data": {
            "text/plain": [
              "array([[1.32084753e-04, 6.15836953e-05],\n",
              "       [6.15836953e-05, 1.33113911e-04]])"
            ]
          },
          "metadata": {},
          "execution_count": 16
        }
      ]
    },
    {
      "cell_type": "code",
      "source": [
        "#Beta\n",
        "cov = cov_var_matrix[0][1];\n",
        "var_market = cov_var_matrix[1][1];\n",
        "\n",
        "beta = abs(cov/var_market);\n",
        "print(f\"Beta de nuestra estrategia: {beta}\");"
      ],
      "metadata": {
        "colab": {
          "base_uri": "https://localhost:8080/"
        },
        "id": "E6Kkcx2QTQWD",
        "outputId": "78070f21-1027-4a3b-dd16-47a5be14753e"
      },
      "execution_count": null,
      "outputs": [
        {
          "output_type": "stream",
          "name": "stdout",
          "text": [
            "Beta de nuestra estrategia: 0.46263906632116764\n"
          ]
        }
      ]
    },
    {
      "cell_type": "markdown",
      "source": [
        "ALPHA\n",
        "\n",
        "El Alpha mide la rentabilidad adicional de un activo financiero en relación con su riesgo sistemático (medido por su coeficiente Beta) y con el mercado en general. Es decir, el Alpha mide cuánto mejor o peor ha funcionado un activo en comparación con su rendimiento esperado dada su exposición al mercado.\n",
        "\n",
        "<br>\n",
        "\n",
        "<p align=\"center\">\n",
        "$Alpha = r_{PF} - \\beta*(r_{PF} - r_{f}) - r_{f}$\n",
        "<p> <br>\n",
        "\n",
        "\n",
        "Un Alpha positivo indica que el activo ha superado su rendimiento esperado, mientras que un Alpha negativo indica que el activo ha rendido peor de lo esperado. En otras palabras, un Alpha positivo indica que el activo ha proporcionado un rendimiento excedente en relación con el riesgo asumido, mientras que un Alpha negativo indica que el activo ha proporcionado un rendimiento deficiente en relación con el riesgo asumido."
      ],
      "metadata": {
        "id": "FBf7jrIYZVxS"
      }
    },
    {
      "cell_type": "code",
      "source": [
        "#Calculamos alpha anualizado:\n",
        "mean = best_pre['strategy'].mean();\n",
        "alpha = (252*mean*(1-beta))*100;\n",
        "print(f\"Alpha: {alpha} %\");"
      ],
      "metadata": {
        "colab": {
          "base_uri": "https://localhost:8080/"
        },
        "id": "IKA8uEJ0UV1z",
        "outputId": "d748fbf6-ac35-4782-daf1-d1f5d1e5f67e"
      },
      "execution_count": null,
      "outputs": [
        {
          "output_type": "stream",
          "name": "stdout",
          "text": [
            "Alpha: 12.679214305328346 %\n"
          ]
        }
      ]
    },
    {
      "cell_type": "markdown",
      "metadata": {
        "id": "jLkdFSptKhTk"
      },
      "source": [
        "DRAWDOWN\n",
        "\n",
        "El drawdown mide la reducción en el valor de un activo o cartera desde su punto más alto hasta su punto más bajo.\n",
        "\n",
        "<br>\n",
        "\n",
        "<p align=\"center\">\n",
        "$Drawdown = -\\frac{𝕍max - 𝕍min}{𝕍max}$\n",
        "<p> <br>\n",
        "\n",
        "\n",
        "Por ejemplo, si el valor máximo histórico de una cartera de inversión fue de usd 100,000 y luego cayó a usd 80,000 antes de volver a subir, entonces el drawdown de esa cartera fue del 20% (es decir, la reducción fue de usd 20,000, o el 20% del valor máximo)."
      ]
    },
    {
      "cell_type": "code",
      "metadata": {
        "id": "SYIRBGgEKUPD"
      },
      "source": [
        "def drawdown_function(serie):\n",
        "\n",
        "  # Calculamos la suma de los rendimientos\n",
        "  cum = serie.dropna().cumsum() + 1\n",
        "\n",
        "  # Calculamos el máximo de la suma en el período (máximo acumulado) # (1,3,5,3,1) --> (1,3,5,5,5)\n",
        "  running_max = np.maximum.accumulate(cum)\n",
        "\n",
        "  # Calculamos el drawdown\n",
        "  drawdown = cum/running_max - 1\n",
        "  return drawdown"
      ],
      "execution_count": null,
      "outputs": []
    },
    {
      "cell_type": "code",
      "source": [
        "# Calculamos el drawdown\n",
        "drawdown = drawdown_function(best_pre[\"strategy\"])\n",
        "drawdown"
      ],
      "metadata": {
        "colab": {
          "base_uri": "https://localhost:8080/"
        },
        "id": "zjC9SSZRgdM6",
        "outputId": "14685131-405e-4f44-b193-bfb11ed59646"
      },
      "execution_count": null,
      "outputs": [
        {
          "output_type": "execute_result",
          "data": {
            "text/plain": [
              "date\n",
              "1990-03-30    0.000000\n",
              "1990-04-02    0.000000\n",
              "1990-04-03    0.000000\n",
              "1990-04-04    0.000000\n",
              "1990-04-05    0.000000\n",
              "                ...   \n",
              "2023-03-09    0.000000\n",
              "2023-03-10    0.000000\n",
              "2023-03-13   -0.000172\n",
              "2023-03-14    0.000000\n",
              "2023-03-15   -0.000795\n",
              "Name: strategy, Length: 8303, dtype: float64"
            ]
          },
          "metadata": {},
          "execution_count": 20
        }
      ]
    },
    {
      "cell_type": "code",
      "source": [
        "# Adaptar el tamaño de la figura\n",
        "plt.figure(figsize=(15,8))\n",
        "\n",
        "# Representar el drawdown\n",
        "plt.fill_between(drawdown.index, drawdown*100, 0,\n",
        "                 drawdown, color=\"#CE5757\", alpha=0.65)\n",
        "\n",
        "# Añadimos el título\n",
        "plt.title(\"Drawdown\")\n",
        "\n",
        "# Etiqueta del eje de la y\n",
        "plt.ylabel(\"Drawdown en %\")\n",
        "\n",
        "plt.show()\n",
        "\n",
        "# Cálculo del drawdown máximo\n",
        "max_drawdown = -np.min(drawdown)*100\n",
        "print(f\"Max drawdown: {'%.1f' % max_drawdown} %\")"
      ],
      "metadata": {
        "colab": {
          "base_uri": "https://localhost:8080/",
          "height": 72
        },
        "id": "q9KHyDdnQf3K",
        "outputId": "a67cced2-8c17-4c95-cad0-a7a394498f2c"
      },
      "execution_count": null,
      "outputs": [
        {
          "output_type": "display_data",
          "data": {
            "text/plain": [
              "<Figure size 1080x576 with 1 Axes>"
            ],
            "image/png": "[encoded data removed]"
          },
          "metadata": {}
        },
        {
          "output_type": "stream",
          "name": "stdout",
          "text": [
            "Max drawdown: 19.7 %\n"
          ]
        }
      ]
    },
    {
      "cell_type": "markdown",
      "source": [
        "##Función de Backtesting"
      ],
      "metadata": {
        "id": "r6f8wcclTabS"
      }
    },
    {
      "cell_type": "code",
      "source": [
        "def BackTest(serie, yahoo_ticker, annualiazed_scalar=252):\n",
        "\n",
        "  # Importar el benchmark\n",
        "  import yfinance as yf\n",
        "  close_price = yf.download(yahoo_ticker)[\"Close\"]\n",
        "  market = close_price.pct_change(1)\n",
        "  \n",
        "  # Cambiar el nombre\n",
        "  market.name = \"Market\"\n",
        "\n",
        "  # Concatenar los retornos y el mercado\n",
        "  val = pd.concat((serie,market), axis=1).dropna()\n",
        "  # Calcular el drawdown\n",
        "  drawdown = drawdown_function(serie)*100\n",
        "  \n",
        "  # Calcular el max drawdown\n",
        "  max_drawdown = -np.min(drawdown)\n",
        "\n",
        "  # Put a subplots\n",
        "  fig, (cum, dra) = plt.subplots(1,2, figsize=(20,6))\n",
        "  \n",
        "  # Put a Suptitle\n",
        "  fig.suptitle(\"Backtesting\", size=20)\n",
        "\n",
        "  # Returns cumsum chart\n",
        "  cum.plot(serie.cumsum()*100, color=\"#39B3C7\")\n",
        "\n",
        "  # Market cumsum chart\n",
        "  cum.plot(val[\"Market\"].cumsum()*100, color=\"#B85A0F\")\n",
        "\n",
        "  # Put a legend\n",
        "  cum.legend([\"Model\", \"Market\"])\n",
        "  \n",
        "  # Set individual title\n",
        "  cum.set_title(\"Cumulative Return\", size=13)\n",
        "\n",
        "  cum.set_ylabel(\"Cumulative Return %\", size=11)\n",
        "\n",
        "  # Put the drawdown\n",
        "  dra.fill_between(drawdown.index,0,drawdown, color=\"#C73954\", alpha=0.65)\n",
        "\n",
        "  # Set individual title\n",
        "  dra.set_title(\"Drawdown\", size=13)\n",
        "\n",
        "  dra.set_ylabel(\"drawdown en %\", size=11)\n",
        "\n",
        "  # Plot the graph\n",
        "  plt.show()\n",
        "  \n",
        "  # Calcular el índice sortino\n",
        "  sortino = np.sqrt(annualiazed_scalar) * serie.mean()/serie.loc[serie<0].std()\n",
        "\n",
        "  # Calcular el índice  beta\n",
        "  beta = abs(np.cov(val[[\"strategy\", \"Market\"]].values,rowvar=False)[0][1] / np.var(val[\"Market\"].values))\n",
        "\n",
        "  # Calcular el índice  alpha\n",
        "  alpha = annualiazed_scalar * (serie.mean() - beta*serie.mean())\n",
        "\n",
        "  # Imprimir los estadísticos\n",
        "  print(f\"Sortino: {np.round(sortino,3)}\")\n",
        "  print(f\"Beta: {np.round(beta,3)}\")\n",
        "  print(f\"Alpha: {np.round(alpha*100,3)} %\")\n",
        "  print(f\"MaxDrawdown: {np.round(max_drawdown,3)} %\")\n",
        "\n",
        "    #Graph\n",
        "  plt.figure(figsize=(15,8))\n",
        "\n",
        "  ax1 = plt.subplot(111)\n",
        "  ax1.plot(serie.cumsum(axis = 0)*100)\n",
        "\n",
        "  plt.ylabel(\"Return\")\n",
        "  plt.xlabel(\"Time\")\n",
        "\n",
        "  plt.axhline(0, color=\"red\")\n",
        "\n",
        "  ax2 = ax1.twinx();\n",
        "  ax2.plot(df[['close']].iloc[split_val:], color = \"orange\", alpha = 0.3)\n",
        "\n",
        "  plt.ylabel(f\"{yahoo_ticker} price\")\n",
        "\n",
        "  plt.title(f\"Model Returns testing data & {yahoo_ticker} price (orange)\")\n",
        "  plt.show()"
      ],
      "metadata": {
        "id": "yVrNBgKATew4"
      },
      "execution_count": null,
      "outputs": []
    },
    {
      "cell_type": "markdown",
      "source": [
        "#Final Backtesting"
      ],
      "metadata": {
        "id": "sj55Q76i9w-e"
      }
    },
    {
      "cell_type": "code",
      "source": [
        "BackTest(best_pre[\"strategy\"], \"^GSPC\")"
      ],
      "metadata": {
        "id": "vq5QLMP_VYGB",
        "colab": {
          "base_uri": "https://localhost:8080/",
          "height": 999
        },
        "outputId": "6bbf3f84-f794-4513-883e-811c5e9ca787"
      },
      "execution_count": null,
      "outputs": [
        {
          "output_type": "stream",
          "name": "stdout",
          "text": [
            "\r[*********************100%***********************]  1 of 1 completed\n"
          ]
        },
        {
          "output_type": "display_data",
          "data": {
            "text/plain": [
              "<Figure size 1440x432 with 2 Axes>"
            ],
            "image/png": "[encoded data removed]"
          },
          "metadata": {}
        },
        {
          "output_type": "stream",
          "name": "stdout",
          "text": [
            "Sortino: 1.886\n",
            "Beta: 0.487\n",
            "Alpha: 12.192 %\n",
            "MaxDrawdown: 19.739 %\n"
          ]
        },
        {
          "output_type": "display_data",
          "data": {
            "text/plain": [
              "<Figure size 1080x576 with 2 Axes>"
            ],
            "image/png": "[encoded data removed]"
          },
          "metadata": {}
        }
      ]
    }
  ]
}